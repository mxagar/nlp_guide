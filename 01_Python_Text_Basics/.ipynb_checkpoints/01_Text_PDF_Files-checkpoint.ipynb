{
 "cells": [
  {
   "cell_type": "markdown",
   "id": "b98b9b81-68de-4d38-af85-e3dd7e6dfc24",
   "metadata": {},
   "source": [
    "# Working with Text and PDF Files"
   ]
  },
  {
   "cell_type": "markdown",
   "id": "e0c455d8-4e0d-4e2d-87a4-977275160fd6",
   "metadata": {},
   "source": [
    "This notebook presents the basic python commands to open and handle files and the text in them.\n",
    "\n",
    "Overview of contents:\n",
    "\n",
    "1. Working with Text Strings\n",
    "    - 1.1 f-Strings\n",
    "    - 1.2 Minimum Widths, Alignment and Padding\n",
    "    - 1.3 Date Formatting\n",
    "2. Working with Text Files\n",
    "    - 2.1 Create a File with Magic Commands\n",
    "    - 2.2 Opening and Handling Text Files\n",
    "    - 2.3 Writing to Files\n",
    "    - 2.4 Appending to a File\n",
    "    - 2.5 Context Managers\n",
    "3. Working with PDF Files\n",
    "    - 3.1 Opening PDFs\n",
    "    - 3.2 Adding to PDFs\n",
    "    - 3.3 Example: Extracting Text from PDFs\n",
    "\n",
    "*Diclaimer: I made this notebook while following the Udemy course [NLP - Natural Language Processing with Python](https://www.udemy.com/course/nlp-natural-language-processing-with-python/) by José Marcial Portilla. The original course notebooks and materials were provided with a download link, I haven't found a repository to fork from.*"
   ]
  },
  {
   "cell_type": "markdown",
   "id": "6b3c7f33-5348-4ed2-92fc-4b7cac36de12",
   "metadata": {},
   "source": [
    "## 1. Working with Text Strings"
   ]
  },
  {
   "cell_type": "markdown",
   "id": "bfd66ee9-9f53-4645-956f-c6ec7aced5ac",
   "metadata": {},
   "source": [
    "### 1.1 f-Strings"
   ]
  },
  {
   "cell_type": "code",
   "execution_count": 7,
   "id": "9339cc85-5daf-418b-931c-40fd717f4448",
   "metadata": {},
   "outputs": [
    {
     "name": "stdout",
     "output_type": "stream",
     "text": [
      "His name is Jose.\n",
      "His name is Jose.\n"
     ]
    }
   ],
   "source": [
    "# Variable string\n",
    "name = 'Jose'\n",
    "\n",
    "# Using the old .format() method\n",
    "print('His name is {}.'.format(name))\n",
    "\n",
    "# Using f-strings (since Python 3.6)\n",
    "print(f'His name is {name}.')"
   ]
  },
  {
   "cell_type": "code",
   "execution_count": 8,
   "id": "7657df9b-080b-46f3-ade5-8d39c1433448",
   "metadata": {},
   "outputs": [
    {
     "name": "stdout",
     "output_type": "stream",
     "text": [
      "Address: 123 Main Street\n"
     ]
    }
   ],
   "source": [
    "# We can perform operations inside the cury braces: with dicts, lists, etc.\n",
    "# but make sure we use \"\" if we use '' inside\n",
    "d = {'a':123,'b':456}\n",
    "print(f\"Address: {d['a']} Main Street\")"
   ]
  },
  {
   "cell_type": "markdown",
   "id": "947151d8-4f6e-4d23-a10f-32858014f2ce",
   "metadata": {},
   "source": [
    "### 1.2 Minimum Widths, Alignment and Padding"
   ]
  },
  {
   "cell_type": "code",
   "execution_count": 15,
   "id": "c30ab27c-406b-4a89-85fd-fd7ea20e4262",
   "metadata": {},
   "outputs": [
    {
     "name": "stdout",
     "output_type": "stream",
     "text": [
      "Author     Topic        .......Pages\n",
      "Twain      Rafting      .........601\n",
      "Feynman    Physics      ..........95\n",
      "Hamilton   Mythology    .........144\n"
     ]
    }
   ],
   "source": [
    "# Tuples which represent table rows\n",
    "library = [('Author', 'Topic', 'Pages'),\n",
    "           ('Twain', 'Rafting', 601),\n",
    "           ('Feynman', 'Physics', 95),\n",
    "           ('Hamilton', 'Mythology', 144)]\n",
    "\n",
    "# We print with f-strings, tuple unpacking\n",
    "# and minimum width using :{width}\n",
    "# Note that we can pass <, > or ^ between :{ for justification\n",
    "# and a symbol for filling\n",
    "for author, topic, pages in library:\n",
    "    print(f'{author:{10}} {topic:{12}} {pages:.>{12}}')"
   ]
  },
  {
   "cell_type": "markdown",
   "id": "8bfbbece-6829-4636-9c63-96c016071be4",
   "metadata": {},
   "source": [
    "### 1.3 Date Formatting"
   ]
  },
  {
   "cell_type": "code",
   "execution_count": 17,
   "id": "ef33f2cd-d991-459c-af20-8b900b40bd78",
   "metadata": {},
   "outputs": [],
   "source": [
    "# Datetime object\n",
    "from datetime import datetime\n",
    "today = datetime(year=2018, month=1, day=27)"
   ]
  },
  {
   "cell_type": "code",
   "execution_count": 20,
   "id": "bed94ac3-0b36-4f48-8e18-e0d36513e1dd",
   "metadata": {},
   "outputs": [
    {
     "name": "stdout",
     "output_type": "stream",
     "text": [
      "2018-01-27 00:00:00\n"
     ]
    }
   ],
   "source": [
    "# Print with native formatting\n",
    "print(f'{today}')"
   ]
  },
  {
   "cell_type": "code",
   "execution_count": 21,
   "id": "f820df2e-3175-45c3-b0c3-1e75b70f8f65",
   "metadata": {},
   "outputs": [
    {
     "name": "stdout",
     "output_type": "stream",
     "text": [
      "January 27, 2018\n"
     ]
    }
   ],
   "source": [
    "# We can format datetime as we want using the codes.\n",
    "# Look at this page to get the codes\n",
    "# https://strftime.org/\n",
    "print(f'{today:%B %d, %Y}')"
   ]
  },
  {
   "cell_type": "markdown",
   "id": "6f7ccb5f-fc35-47f3-9bb2-86fed9358143",
   "metadata": {},
   "source": [
    "## 2. Working with Text Files"
   ]
  },
  {
   "cell_type": "markdown",
   "id": "2023b1e1-b1cf-482d-8cb2-0e825a16df0f",
   "metadata": {},
   "source": [
    "### 2.1 Create a File with Magic Commands"
   ]
  },
  {
   "cell_type": "code",
   "execution_count": 25,
   "id": "06c01435-ba88-4159-b290-036c6507da41",
   "metadata": {},
   "outputs": [],
   "source": [
    "# This creates a text file in Jupyter:\n",
    "# magic commad %%writefile + filename + contents"
   ]
  },
  {
   "cell_type": "code",
   "execution_count": 26,
   "id": "3860a660-2fbc-46b2-9bb4-347b1f9c5417",
   "metadata": {},
   "outputs": [
    {
     "name": "stdout",
     "output_type": "stream",
     "text": [
      "Overwriting test.txt\n"
     ]
    }
   ],
   "source": [
    "%%writefile test.txt\n",
    "Hello, this is a quick test file.\n",
    "This is the second line of the file."
   ]
  },
  {
   "cell_type": "markdown",
   "id": "52a17067-c508-4c24-afbc-8905cb98c3a2",
   "metadata": {},
   "source": [
    "### 2.2 Opening and Handling Text Files"
   ]
  },
  {
   "cell_type": "code",
   "execution_count": 30,
   "id": "2d975147-599c-4b5c-a60d-5b2d71314eb9",
   "metadata": {},
   "outputs": [
    {
     "data": {
      "text/plain": [
       "'/Users/mxagar/nexo/git_repositories/nlp_guide/01_Python_Text_Basics'"
      ]
     },
     "execution_count": 30,
     "metadata": {},
     "output_type": "execute_result"
    }
   ],
   "source": [
    "pwd"
   ]
  },
  {
   "cell_type": "code",
   "execution_count": 49,
   "id": "c476f3dd-ae0c-4e41-8ced-8ff98b305745",
   "metadata": {},
   "outputs": [],
   "source": [
    "# Open the text.txt file we created earlier: it is loaded as a file object\n",
    "my_file = open('test.txt')"
   ]
  },
  {
   "cell_type": "code",
   "execution_count": 50,
   "id": "a2db636c-318d-459a-b250-c09623b9e3ca",
   "metadata": {},
   "outputs": [
    {
     "data": {
      "text/plain": [
       "'Hello, this is a quick test file.\\nThis is the second line of the file.\\n'"
      ]
     },
     "execution_count": 50,
     "metadata": {},
     "output_type": "execute_result"
    }
   ],
   "source": [
    "# We can now read the COMPLETE file: the content is returned as a string.\n",
    "# After that, the reading cursor is at the end, and we can't read anymore.\n",
    "my_file.read()"
   ]
  },
  {
   "cell_type": "code",
   "execution_count": 51,
   "id": "70d162ea-7e7b-4174-a180-8c690345c10b",
   "metadata": {},
   "outputs": [
    {
     "data": {
      "text/plain": [
       "0"
      ]
     },
     "execution_count": 51,
     "metadata": {},
     "output_type": "execute_result"
    }
   ],
   "source": [
    "# Set cursor to index position 0 = start\n",
    "# After that, we can read() th complete text again\n",
    "my_file.seek(0)"
   ]
  },
  {
   "cell_type": "code",
   "execution_count": 52,
   "id": "084e43e6-4165-4d02-adf5-54b83b7b7cab",
   "metadata": {},
   "outputs": [
    {
     "name": "stdout",
     "output_type": "stream",
     "text": [
      "Hello, this is a quick test file.\n",
      "\n",
      "This is the second line of the file.\n",
      "\n"
     ]
    }
   ],
   "source": [
    "# readlines() returns a list of the lines in the file: very practical!\n",
    "my_file.seek(0)\n",
    "mylines = my_file.readlines()\n",
    "for line in mylines:\n",
    "    print(line)"
   ]
  },
  {
   "cell_type": "code",
   "execution_count": 53,
   "id": "a9b7a457-e841-49bf-9563-a23c25dc44a6",
   "metadata": {},
   "outputs": [],
   "source": [
    "# Always close the opened files\n",
    "# otherwise if a file is opened by several processes we could get problems\n",
    "my_file.close()"
   ]
  },
  {
   "cell_type": "markdown",
   "id": "888b9221-77f2-4c90-aa89-102af5c1f4f5",
   "metadata": {},
   "source": [
    "### 2.3 Writing to Files"
   ]
  },
  {
   "cell_type": "code",
   "execution_count": 72,
   "id": "2082db74-3c46-49b2-bce3-9f87f1e5d254",
   "metadata": {},
   "outputs": [],
   "source": [
    "# Add a second argument to the function, 'w' which stands for write.\n",
    "# Passing 'w+' lets us read (+) and write (w) to the file.\n",
    "# Use TAB to access the docs\n",
    "# HOWEVER: 'w' removes any content in the file automatically!\n",
    "my_file = open('test.txt','w+')"
   ]
  },
  {
   "cell_type": "code",
   "execution_count": 73,
   "id": "86096dcc-9f60-4864-a348-8601838fb70e",
   "metadata": {},
   "outputs": [
    {
     "data": {
      "text/plain": [
       "24"
      ]
     },
     "execution_count": 73,
     "metadata": {},
     "output_type": "execute_result"
    }
   ],
   "source": [
    "# Write to the file\n",
    "my_file.write('This is a new first line')"
   ]
  },
  {
   "cell_type": "code",
   "execution_count": 74,
   "id": "f01db74a-548b-465e-82d4-1e6998157835",
   "metadata": {},
   "outputs": [
    {
     "data": {
      "text/plain": [
       "0"
      ]
     },
     "execution_count": 74,
     "metadata": {},
     "output_type": "execute_result"
    }
   ],
   "source": [
    "# Don't forget we have a cursor!\n",
    "my_file.seek(0)"
   ]
  },
  {
   "cell_type": "code",
   "execution_count": 75,
   "id": "106fc0f8-1002-46ce-9e08-b0b156dd6b41",
   "metadata": {},
   "outputs": [
    {
     "data": {
      "text/plain": [
       "'This is a new first line'"
      ]
     },
     "execution_count": 75,
     "metadata": {},
     "output_type": "execute_result"
    }
   ],
   "source": [
    "# Check the content was overwritten\n",
    "my_file.read()"
   ]
  },
  {
   "cell_type": "code",
   "execution_count": 76,
   "id": "56abce95-6b9e-4a4a-a0ef-c24dfb9ec137",
   "metadata": {},
   "outputs": [],
   "source": [
    "my_file.close()"
   ]
  },
  {
   "cell_type": "markdown",
   "id": "ab327a12-54b1-47e8-8981-2fe9037e3208",
   "metadata": {},
   "source": [
    "### 2.4 Appending to a File"
   ]
  },
  {
   "cell_type": "code",
   "execution_count": 77,
   "id": "4a894e44-956d-4f57-98cb-d2f050e3dfad",
   "metadata": {},
   "outputs": [
    {
     "data": {
      "text/plain": [
       "23"
      ]
     },
     "execution_count": 77,
     "metadata": {},
     "output_type": "execute_result"
    }
   ],
   "source": [
    "# Passing 'a+' lets us read (+) and append (a) to the file.\n",
    "# Cursor is set at the end of the file\n",
    "my_file = open('test.txt','a+')\n",
    "# We need to addd line breaks manually!\n",
    "my_file.write('\\nThis line is being appended to test.txt')\n",
    "my_file.write('\\nAnd another line here.')"
   ]
  },
  {
   "cell_type": "code",
   "execution_count": 78,
   "id": "41ecf23a-63a4-431f-95ff-9419e38569e0",
   "metadata": {},
   "outputs": [
    {
     "name": "stdout",
     "output_type": "stream",
     "text": [
      "This is a new first line\n",
      "This line is being appended to test.txt\n",
      "And another line here.\n"
     ]
    }
   ],
   "source": [
    "# Don't forget setting the cursor where we want!\n",
    "my_file.seek(0)\n",
    "print(my_file.read())"
   ]
  },
  {
   "cell_type": "code",
   "execution_count": 79,
   "id": "e6974d4a-1bca-4db1-a33c-b47280879f0b",
   "metadata": {},
   "outputs": [],
   "source": [
    "my_file.close()"
   ]
  },
  {
   "cell_type": "code",
   "execution_count": 80,
   "id": "8c007f52-1b2c-4163-a2b4-35bbe4ada378",
   "metadata": {},
   "outputs": [],
   "source": [
    "# Append with magic commands"
   ]
  },
  {
   "cell_type": "code",
   "execution_count": 82,
   "id": "536f3551-80d8-4b34-b2ce-c520ba8132b3",
   "metadata": {},
   "outputs": [
    {
     "name": "stdout",
     "output_type": "stream",
     "text": [
      "Appending to test.txt\n"
     ]
    }
   ],
   "source": [
    "%%writefile -a test.txt\n",
    "This is more text being appended to test.txt\n",
    "And another line here."
   ]
  },
  {
   "cell_type": "markdown",
   "id": "ac8f61b4-a148-4127-b802-08642d0a267f",
   "metadata": {},
   "source": [
    "### 2.5 Context Managers"
   ]
  },
  {
   "cell_type": "code",
   "execution_count": 84,
   "id": "328a3f24-eaf0-4415-8d31-e99538ac56d5",
   "metadata": {},
   "outputs": [
    {
     "name": "stdout",
     "output_type": "stream",
     "text": [
      "This is a new first line\n",
      "\n"
     ]
    }
   ],
   "source": [
    "# We define a context in which the file object is aliased with a variable name\n",
    "# When we exit the with block/context, the file is closed automatically\n",
    "# and the variable destroyed - thus, we need to read the content to another object\n",
    "with open('test.txt','r') as txt:\n",
    "    first_line = txt.readlines()[0]\n",
    "print(first_line)"
   ]
  },
  {
   "cell_type": "code",
   "execution_count": 85,
   "id": "ca220753-0004-4192-9af7-db5a759407e5",
   "metadata": {},
   "outputs": [
    {
     "name": "stdout",
     "output_type": "stream",
     "text": [
      "This is a new first line\n",
      "This line is being appended to test.txt\n",
      "And another line here.\n",
      "This is more text being appended to test.txt\n",
      "And another line here.\n",
      "This is more text being appended to test.txt\n",
      "And another line here.\n"
     ]
    }
   ],
   "source": [
    "# Iterating through a file\n",
    "with open('test.txt','r') as txt:\n",
    "    for line in txt:\n",
    "        print(line, end='')  # the end='' argument removes extra linebreaks"
   ]
  },
  {
   "cell_type": "markdown",
   "id": "04f5f6b6-fa20-4be6-bb66-3ddac8679c52",
   "metadata": {},
   "source": [
    "## 3. Working with PDF Files"
   ]
  },
  {
   "cell_type": "markdown",
   "id": "209a91c5-d608-45a4-9524-34875d302491",
   "metadata": {},
   "source": [
    "### 3.1 Opening PDFs"
   ]
  },
  {
   "cell_type": "markdown",
   "id": "04f348e8-49d2-4b13-9e08-504a350cb181",
   "metadata": {},
   "source": [
    "We can use the library PyPDF2 to open PDF files; however, not all PDF files are always readable.\n",
    "\n",
    "```\n",
    "pip install PyPDF2\n",
    "```"
   ]
  },
  {
   "cell_type": "code",
   "execution_count": 99,
   "id": "836753d9-6889-4a76-bdec-d7f66c11c644",
   "metadata": {},
   "outputs": [],
   "source": [
    "# We can use the library PyPDF2 to open PDF files\n",
    "# however, not all PDF files are always readable.\n",
    "# To install it: pip install PyPDF2\n",
    "import PyPDF2"
   ]
  },
  {
   "cell_type": "code",
   "execution_count": 100,
   "id": "0e228ed0-b6de-47a2-92df-5df0e26d1cf1",
   "metadata": {},
   "outputs": [],
   "source": [
    "# Notice we read it as a binary with 'rb' (b)\n",
    "f = open('US_Declaration.pdf','rb')"
   ]
  },
  {
   "cell_type": "code",
   "execution_count": 101,
   "id": "5ebe3ee4-14c7-47cb-b6ce-b319c7be9d9a",
   "metadata": {},
   "outputs": [],
   "source": [
    "# We instantiate our PDF reader\n",
    "pdf_reader = PyPDF2.PdfFileReader(f)"
   ]
  },
  {
   "cell_type": "code",
   "execution_count": 102,
   "id": "23207fff-2649-4df6-9d0d-9a028eca458c",
   "metadata": {},
   "outputs": [
    {
     "data": {
      "text/plain": [
       "5"
      ]
     },
     "execution_count": 102,
     "metadata": {},
     "output_type": "execute_result"
    }
   ],
   "source": [
    "# Use . TAB for seeing all possible functions, attributes, etc.\n",
    "pdf_reader.numPages"
   ]
  },
  {
   "cell_type": "code",
   "execution_count": 103,
   "id": "c231595d-d622-497e-8305-f52695200b69",
   "metadata": {},
   "outputs": [],
   "source": [
    "# Get page 1\n",
    "page_one = pdf_reader.getPage(0)"
   ]
  },
  {
   "cell_type": "code",
   "execution_count": 104,
   "id": "16ed268a-4f38-4b9a-b348-4ee4459e1107",
   "metadata": {},
   "outputs": [],
   "source": [
    "# Extract text from a page\n",
    "page_one_text = page_one.extractText()"
   ]
  },
  {
   "cell_type": "code",
   "execution_count": 105,
   "id": "b1e534b9-1ec5-4a72-a0a4-63ee864ff406",
   "metadata": {},
   "outputs": [
    {
     "name": "stdout",
     "output_type": "stream",
     "text": [
      "Declaration of IndependenceIN CONGRESS, July 4, 1776. The unanimous Declaration of the thirteen united States of America, When in the Course of human events, it becomes necessary for one people to dissolve the\n",
      "political bands which have connected them with another, and to assume among the powers of the\n",
      "earth, the separate and equal station to which the Laws of Nature and of Nature's God entitle\n",
      "\n",
      "them, a decent respect to the opinions of mankind requires that they should declare the causes\n",
      "\n",
      "which impel them to the separation. \n",
      "We hold these truths to be self-evident, that all men are created equal, that they are endowed by\n",
      "\n",
      "their Creator with certain unalienable Rights, that among these are Life, Liberty and the pursuit\n",
      "of Happiness.ŠThat to secure these rights, Governments are instituted among Men, deriving\n",
      "\n",
      "their just powers from the consent of the governed,ŠThat whenever any Form of Government\n",
      "becomes destructive of these ends, it is the Right of the People to alter or to abolish it, and to\n",
      "institute new Government, laying its foundation on such principles and organizing its powers in\n",
      "such form, as to them shall seem most likely to effect their Safety and Happiness. Prudence,\n",
      "\n",
      "indeed, will dictate that Governments long established should not be changed for light and\n",
      "transient causes; and accordingly all experience hath shewn, that mankind are more disposed to\n",
      "suffer, while evils are sufferable, than to right themselves by abolishing the forms to which they\n",
      "\n",
      "are accustomed. But when a long train of abuses and usurpations, pursuing invariably the same\n",
      "Object evinces a design to reduce them under absolute Despotism, it is their right, it is their duty,\n",
      "to throw off such Government, and to provide new Guards for their future security.ŠSuch has\n",
      "been the patient sufferance of these Colonies; and such is now the necessity which constrains\n",
      "\n",
      "them to alter their former Systems of Government. The history of the present King of Great\n",
      "\n",
      "Britain is a history of repeated injuries and usurpations, all having in direct object the\n",
      "establishment of an absolute Tyranny over these States. To prove this, let Facts be submitted to a\n",
      "candid world. He has refused his Assent to Laws, the most wholesome and necessary for the\n",
      "public good.\n",
      "He has forbidden his Governors to pass Laws of immediate and pressing\n",
      "importance, unless suspended in their operation till his Assent should be obtained;\n",
      "and when so suspended, he has utterly neglected to attend to them.\n",
      "\n",
      "He has refused to pass other Laws for the accommodation of large districts of\n",
      "people, unless those people would relinquish the right of Representation in the\n",
      "Legislature, a right inestimable to them and formidable to tyrants only. \n",
      "\n",
      "He has called together legislative bodies at places unusual, uncomfortable, and distant\n",
      "from the depository of their public Records, for the sole purpose of fatiguing them into\n",
      "compliance with his measures.\n",
      "\n"
     ]
    }
   ],
   "source": [
    "print(page_one_text)"
   ]
  },
  {
   "cell_type": "code",
   "execution_count": 106,
   "id": "edec2e45-6fd0-46ef-b683-a620a776b224",
   "metadata": {},
   "outputs": [],
   "source": [
    "# Always close the file!\n",
    "f.close()"
   ]
  },
  {
   "cell_type": "markdown",
   "id": "40a4231c-9a96-4a74-b940-da6d34e02480",
   "metadata": {},
   "source": [
    "### 3.2 Adding to PDFs"
   ]
  },
  {
   "cell_type": "code",
   "execution_count": 107,
   "id": "1220165e-c8f7-4ebd-a550-a81dabddee6b",
   "metadata": {},
   "outputs": [],
   "source": [
    "# We can only copy pages and append them to the end\n",
    "f = open('US_Declaration.pdf','rb')\n",
    "pdf_reader = PyPDF2.PdfFileReader(f)"
   ]
  },
  {
   "cell_type": "code",
   "execution_count": 108,
   "id": "c30db3bd-3f27-4617-8596-1e1581192ef3",
   "metadata": {},
   "outputs": [],
   "source": [
    "first_page = pdf_reader.getPage(0)"
   ]
  },
  {
   "cell_type": "code",
   "execution_count": 114,
   "id": "adecd105-1ce9-4101-83d2-80df7dea3c79",
   "metadata": {},
   "outputs": [],
   "source": [
    "# We create a PDF writer and add to it the page we extracted\n",
    "pdf_writer = PyPDF2.PdfFileWriter()"
   ]
  },
  {
   "cell_type": "code",
   "execution_count": 115,
   "id": "3bb37e50-10e8-46ef-99f7-dd5c32366b0d",
   "metadata": {},
   "outputs": [],
   "source": [
    "pdf_writer.addPage(first_page)"
   ]
  },
  {
   "cell_type": "code",
   "execution_count": 119,
   "id": "fc12f1b2-4ef9-4138-8f81-01946eb10c18",
   "metadata": {},
   "outputs": [],
   "source": [
    "# New file: wb = write binary\n",
    "pdf_output = open(\"Some_New_Doc.pdf\",\"wb\")"
   ]
  },
  {
   "cell_type": "code",
   "execution_count": 120,
   "id": "9da064b5-9ad2-49a0-add5-3544cfc609b3",
   "metadata": {},
   "outputs": [],
   "source": [
    "# Write contents\n",
    "pdf_writer.write(pdf_output)"
   ]
  },
  {
   "cell_type": "code",
   "execution_count": 122,
   "id": "f0bb6e2d-3534-4086-844e-fd199700d2f7",
   "metadata": {},
   "outputs": [],
   "source": [
    "# Close both files\n",
    "# We can check the PDF\n",
    "pdf_output.close()\n",
    "f.close()"
   ]
  },
  {
   "cell_type": "markdown",
   "id": "d7e4b8be-1a36-458b-8cec-7ff490716a2d",
   "metadata": {},
   "source": [
    "### 3.3 Example: Extracting Text from PDFs"
   ]
  },
  {
   "cell_type": "code",
   "execution_count": 123,
   "id": "ce00b333-4d5b-4e66-ba0a-27531b8ec94a",
   "metadata": {},
   "outputs": [],
   "source": [
    "f = open('US_Declaration.pdf','rb')\n",
    "# List of every page's text.\n",
    "# The index will correspond to the page number.\n",
    "pdf_text = [0]  # zero is a placehoder to make page 1 = index 1\n",
    "# Create PDF reader\n",
    "pdf_reader = PyPDF2.PdfFileReader(f)\n",
    "# Extract text page by page\n",
    "for p in range(pdf_reader.numPages):\n",
    "    page = pdf_reader.getPage(p)\n",
    "    pdf_text.append(page.extractText())\n",
    "# Close file\n",
    "f.close()"
   ]
  },
  {
   "cell_type": "code",
   "execution_count": 125,
   "id": "cbf687f7-1dd4-4d27-84ac-9b4339caaefd",
   "metadata": {},
   "outputs": [
    {
     "data": {
      "text/plain": [
       "6"
      ]
     },
     "execution_count": 125,
     "metadata": {},
     "output_type": "execute_result"
    }
   ],
   "source": [
    "len(pdf_text)"
   ]
  },
  {
   "cell_type": "code",
   "execution_count": 127,
   "id": "d0c3b52c-7c50-4f1c-a69c-5ea0859eacef",
   "metadata": {},
   "outputs": [
    {
     "name": "stdout",
     "output_type": "stream",
     "text": [
      "Declaration of IndependenceIN CONGRESS, July 4, 1776. The unanimous Declaration of the thirteen united States of America, When in the Course of human events, it becomes necessary for one people to dissolve the\n",
      "political bands which have connected them with another, and to assume among the powers of the\n",
      "earth, the separate and equal station to which the Laws of Nature and of Nature's God entitle\n",
      "\n",
      "them, a decent respect to the opinions of mankind requires that they should declare the causes\n",
      "\n",
      "which impel them to the separation. \n",
      "We hold these truths to be self-evident, that all men are created equal, that they are endowed by\n",
      "\n",
      "their Creator with certain unalienable Rights, that among these are Life, Liberty and the pursuit\n",
      "of Happiness.ŠThat to secure these rights, Governments are instituted among Men, deriving\n",
      "\n",
      "their just powers from the consent of the governed,ŠThat whenever any Form of Government\n",
      "becomes destructive of these ends, it is the Right of the People to alter or to abolish it, and to\n",
      "institute new Government, laying its foundation on such principles and organizing its powers in\n",
      "such form, as to them shall seem most likely to effect their Safety and Happiness. Prudence,\n",
      "\n",
      "indeed, will dictate that Governments long established should not be changed for light and\n",
      "transient causes; and accordingly all experience hath shewn, that mankind are more disposed to\n",
      "suffer, while evils are sufferable, than to right themselves by abolishing the forms to which they\n",
      "\n",
      "are accustomed. But when a long train of abuses and usurpations, pursuing invariably the same\n",
      "Object evinces a design to reduce them under absolute Despotism, it is their right, it is their duty,\n",
      "to throw off such Government, and to provide new Guards for their future security.ŠSuch has\n",
      "been the patient sufferance of these Colonies; and such is now the necessity which constrains\n",
      "\n",
      "them to alter their former Systems of Government. The history of the present King of Great\n",
      "\n",
      "Britain is a history of repeated injuries and usurpations, all having in direct object the\n",
      "establishment of an absolute Tyranny over these States. To prove this, let Facts be submitted to a\n",
      "candid world. He has refused his Assent to Laws, the most wholesome and necessary for the\n",
      "public good.\n",
      "He has forbidden his Governors to pass Laws of immediate and pressing\n",
      "importance, unless suspended in their operation till his Assent should be obtained;\n",
      "and when so suspended, he has utterly neglected to attend to them.\n",
      "\n",
      "He has refused to pass other Laws for the accommodation of large districts of\n",
      "people, unless those people would relinquish the right of Representation in the\n",
      "Legislature, a right inestimable to them and formidable to tyrants only. \n",
      "\n",
      "He has called together legislative bodies at places unusual, uncomfortable, and distant\n",
      "from the depository of their public Records, for the sole purpose of fatiguing them into\n",
      "compliance with his measures.\n",
      "\n"
     ]
    }
   ],
   "source": [
    "# Print page 1\n",
    "print(pdf_text[1])"
   ]
  },
  {
   "cell_type": "code",
   "execution_count": null,
   "id": "d38cf715-48f6-45c9-8de3-2ab20283434b",
   "metadata": {},
   "outputs": [],
   "source": []
  }
 ],
 "metadata": {
  "kernelspec": {
   "display_name": "Python 3 (ipykernel)",
   "language": "python",
   "name": "python3"
  },
  "language_info": {
   "codemirror_mode": {
    "name": "ipython",
    "version": 3
   },
   "file_extension": ".py",
   "mimetype": "text/x-python",
   "name": "python",
   "nbconvert_exporter": "python",
   "pygments_lexer": "ipython3",
   "version": "3.7.11"
  }
 },
 "nbformat": 4,
 "nbformat_minor": 5
}
