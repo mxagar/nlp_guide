{
 "cells": [
  {
   "cell_type": "markdown",
   "id": "9b709318-ac54-4777-a73d-416ee720cf11",
   "metadata": {},
   "source": [
    "# Regular Expressions"
   ]
  },
  {
   "cell_type": "markdown",
   "id": "600832fa-4cde-4307-9432-a7e10f64c22b",
   "metadata": {},
   "source": [
    "This notebook introduces the basics of regular expression searching; functions, identifiers and examples are presented.\n",
    "\n",
    "Overview of contents:\n",
    "\n",
    "1. Basic Search Functions\n",
    "2. Patterns\n",
    "    - 2.1 Identifiers & Quantifiers\n",
    "    - 2.2 Groups\n",
    "    - 2.3 OR Statements: `|`\n",
    "    - 2.4 Wildcards: `.`\n",
    "    - 2.5 Starts with and Ends with: `^,$`\n",
    "    - 2.6 Exclusion: `[^]`\n",
    "    - 2.7 Brackets for Grouping (Words): `[]+`\n",
    "    - 2.8 Parenthesis for Multiple Options\n",
    "    - 2.9 Example: Find Emails\n",
    "\n",
    "*Diclaimer: I made this notebook while following the Udemy course [NLP - Natural Language Processing with Python](https://www.udemy.com/course/nlp-natural-language-processing-with-python/) by José Marcial Portilla. The original course notebooks and materials were provided with a download link, I haven't found a repository to fork from.*"
   ]
  },
  {
   "cell_type": "markdown",
   "id": "5b645d7f-0c3d-4ff5-a5d5-25b05790064c",
   "metadata": {},
   "source": [
    "## 1. Basic Search Functions"
   ]
  },
  {
   "cell_type": "code",
   "execution_count": 78,
   "id": "30a4b07e-d0ac-4732-b7c8-355743b77613",
   "metadata": {},
   "outputs": [],
   "source": [
    "# Example text\n",
    "text = \"The agent's phone number is 408-555-1234. Call soon!\""
   ]
  },
  {
   "cell_type": "code",
   "execution_count": 79,
   "id": "71b828b6-3fdf-474c-974e-f09765354f12",
   "metadata": {},
   "outputs": [
    {
     "data": {
      "text/plain": [
       "True"
      ]
     },
     "execution_count": 79,
     "metadata": {},
     "output_type": "execute_result"
    }
   ],
   "source": [
    "# Python brings built-in capabilities\n",
    "\"408-555-1234\" in text"
   ]
  },
  {
   "cell_type": "code",
   "execution_count": 80,
   "id": "d682529f-83e9-49d4-a752-f7332bae5142",
   "metadata": {},
   "outputs": [],
   "source": [
    "# Python native library for regular expressions\n",
    "import re"
   ]
  },
  {
   "cell_type": "code",
   "execution_count": 81,
   "id": "319b709b-24d1-43e2-a14d-752b93171c66",
   "metadata": {},
   "outputs": [],
   "source": [
    "pattern = 'phone'"
   ]
  },
  {
   "cell_type": "code",
   "execution_count": 82,
   "id": "8d06da11-88d0-4636-a288-9e39dfe17186",
   "metadata": {},
   "outputs": [],
   "source": [
    "# We always search a pattern in the text\n",
    "# which returns a match object with a lot of methods & atttributes\n",
    "match = re.search(pattern,text)"
   ]
  },
  {
   "cell_type": "code",
   "execution_count": 83,
   "id": "5997dc0f-b04e-4f65-8eac-f2b078b6d28a",
   "metadata": {},
   "outputs": [
    {
     "data": {
      "text/plain": [
       "(12, 17)"
      ]
     },
     "execution_count": 83,
     "metadata": {},
     "output_type": "execute_result"
    }
   ],
   "source": [
    "match.span()"
   ]
  },
  {
   "cell_type": "code",
   "execution_count": 84,
   "id": "b627eb7f-6491-4e27-ab36-836312fe4bb2",
   "metadata": {},
   "outputs": [
    {
     "data": {
      "text/plain": [
       "12"
      ]
     },
     "execution_count": 84,
     "metadata": {},
     "output_type": "execute_result"
    }
   ],
   "source": [
    "match.start()"
   ]
  },
  {
   "cell_type": "code",
   "execution_count": 85,
   "id": "12ff20f4-4b37-4bb8-9256-f8c1335b1a63",
   "metadata": {},
   "outputs": [
    {
     "data": {
      "text/plain": [
       "17"
      ]
     },
     "execution_count": 85,
     "metadata": {},
     "output_type": "execute_result"
    }
   ],
   "source": [
    "match.end()"
   ]
  },
  {
   "cell_type": "code",
   "execution_count": 86,
   "id": "6aed1f55-23a0-4d97-b562-126444506fbc",
   "metadata": {},
   "outputs": [
    {
     "data": {
      "text/plain": [
       "'phone'"
      ]
     },
     "execution_count": 86,
     "metadata": {},
     "output_type": "execute_result"
    }
   ],
   "source": [
    "# Get the found text\n",
    "# In this case it's trivial, but if we use regular expression patterns\n",
    "# we don't know the actual found text string\n",
    "match.group()"
   ]
  },
  {
   "cell_type": "code",
   "execution_count": 87,
   "id": "e92d0199-5b5c-4f9e-a4f7-036395ba681e",
   "metadata": {},
   "outputs": [
    {
     "name": "stdout",
     "output_type": "stream",
     "text": [
      "(3, 8)\n",
      "(18, 23)\n"
     ]
    }
   ],
   "source": [
    "# Several match objects\n",
    "text = \"my phone is a new phone\"\n",
    "pattern = 'phone'\n",
    "for match in re.finditer(pattern,text):\n",
    "    print(match.span())"
   ]
  },
  {
   "cell_type": "code",
   "execution_count": 88,
   "id": "ab5ddbad-381b-4fca-baec-be96149f92ca",
   "metadata": {},
   "outputs": [
    {
     "data": {
      "text/plain": [
       "['phone', 'phone']"
      ]
     },
     "execution_count": 88,
     "metadata": {},
     "output_type": "execute_result"
    }
   ],
   "source": [
    "# To just find the pattern without the return match object\n",
    "# It makes sense when we use patterns\n",
    "re.findall(pattern,text)"
   ]
  },
  {
   "cell_type": "markdown",
   "id": "c7391b23-8647-4670-9361-43f780e7ee0a",
   "metadata": {},
   "source": [
    "## 2. Patterns"
   ]
  },
  {
   "cell_type": "markdown",
   "id": "158a1393-16c2-4dac-b807-1a3dc056d154",
   "metadata": {},
   "source": [
    "### 2.1 Identifiers & Quantifiers"
   ]
  },
  {
   "cell_type": "markdown",
   "id": "bd886887-2c20-426c-b7ce-1569e24a2509",
   "metadata": {},
   "source": [
    "To define a pattern, we use the format\n",
    "\n",
    "    r'mypattern'\n",
    "    r\"mypattern\"    \n",
    "\n",
    "And define the type of symbols preceded by `\\`; not using `r` would result in invoking escape, but the regular expression symbols are not escapes.\n",
    "\n",
    "List of typical character/symbol types, aka. **identifiers**:"
   ]
  },
  {
   "cell_type": "markdown",
   "id": "7d2d93e4-c7ae-4e14-8db1-e0467f84918e",
   "metadata": {},
   "source": [
    "<table ><tr><th>Character</th><th>Description</th><th>Example Pattern Code</th><th >Exammple Match</th></tr>\n",
    "\n",
    "<tr ><td><span >\\d</span></td><td>A digit</td><td>file_\\d\\d</td><td>file_25</td></tr>\n",
    "\n",
    "<tr ><td><span >\\w</span></td><td>Alphanumeric</td><td>\\w-\\w\\w\\w</td><td>A-b_1</td></tr>\n",
    "\n",
    "<tr ><td><span >\\s</span></td><td>White space</td><td>a\\sb\\sc</td><td>a b c</td></tr>\n",
    "\n",
    "<tr ><td><span >\\D</span></td><td>A non digit</td><td>\\D\\D\\D</td><td>ABC</td></tr>\n",
    "\n",
    "<tr ><td><span >\\W</span></td><td>Non-alphanumeric</td><td>\\W\\W\\W\\W\\W</td><td>*-+=)</td></tr>\n",
    "\n",
    "<tr ><td><span >\\S</span></td><td>Non-whitespace</td><td>\\S\\S\\S\\S</td><td>Yoyo</td></tr></table>"
   ]
  },
  {
   "cell_type": "markdown",
   "id": "de875657-9b0e-4196-8587-19c148f0a3c9",
   "metadata": {},
   "source": [
    "When an identifier repeats, we can use **quantifiers**:"
   ]
  },
  {
   "cell_type": "markdown",
   "id": "fa0ed745-75b2-4450-bda9-b7b6cb3fa428",
   "metadata": {},
   "source": [
    "<table ><tr><th>Character</th><th>Description</th><th>Example Pattern Code</th><th >Exammple Match</th></tr>\n",
    "\n",
    "<tr ><td><span >+</span></td><td>Occurs one or more times</td><td>\tVersion \\w-\\w+</td><td>Version A-b1_1</td></tr>\n",
    "\n",
    "<tr ><td><span >{3}</span></td><td>Occurs exactly 3 times</td><td>\\D{3}</td><td>abc</td></tr>\n",
    "\n",
    "<tr ><td><span >{2,4}</span></td><td>Occurs 2 to 4 times</td><td>\\d{2,4}</td><td>123</td></tr>\n",
    "\n",
    "<tr ><td><span >{3,}</span></td><td>Occurs 3 or more</td><td>\\w{3,}</td><td>anycharacters</td></tr>\n",
    "\n",
    "<tr ><td><span >\\*</span></td><td>Occurs zero or more times</td><td>A\\*B\\*C*</td><td>AAACC</td></tr>\n",
    "\n",
    "<tr ><td><span >?</span></td><td>Once or none</td><td>plurals?</td><td>plural</td></tr></table>"
   ]
  },
  {
   "cell_type": "code",
   "execution_count": 21,
   "id": "75bfc229-f723-4a1d-8fc1-2c69f312f64d",
   "metadata": {},
   "outputs": [],
   "source": [
    "text = \"My telephone number is 408-555-1234\""
   ]
  },
  {
   "cell_type": "code",
   "execution_count": 22,
   "id": "be16fe7a-ded7-4895-9592-0cac46251ddc",
   "metadata": {},
   "outputs": [],
   "source": [
    "pattern = r'\\d\\d\\d-\\d\\d\\d-\\d\\d\\d\\d'"
   ]
  },
  {
   "cell_type": "code",
   "execution_count": 23,
   "id": "3ecb1d21-078c-4b2a-be7c-a2feb7cd15fc",
   "metadata": {},
   "outputs": [],
   "source": [
    "phone = re.search(pattern,text)"
   ]
  },
  {
   "cell_type": "code",
   "execution_count": 25,
   "id": "68e59d59-a7c0-46b5-b77e-b5b0a4c27ca8",
   "metadata": {},
   "outputs": [
    {
     "data": {
      "text/plain": [
       "'408-555-1234'"
      ]
     },
     "execution_count": 25,
     "metadata": {},
     "output_type": "execute_result"
    }
   ],
   "source": [
    "# With patterns, we don't really know the content found\n",
    "# We can access it with group()\n",
    "phone.group()"
   ]
  },
  {
   "cell_type": "code",
   "execution_count": 29,
   "id": "3e9ba3bb-3e12-4501-bc65-d81203e94b93",
   "metadata": {},
   "outputs": [],
   "source": [
    "# Quantifiers: when an identifier repeats,\n",
    "# we put its number in curly braces\n",
    "phone = re.search(r'\\d{3}-\\d{3}-\\d{4}',text)"
   ]
  },
  {
   "cell_type": "code",
   "execution_count": 30,
   "id": "ef98e4ae-1928-427f-a3f0-604a52424169",
   "metadata": {},
   "outputs": [
    {
     "data": {
      "text/plain": [
       "'408-555-1234'"
      ]
     },
     "execution_count": 30,
     "metadata": {},
     "output_type": "execute_result"
    }
   ],
   "source": [
    "phone.group()"
   ]
  },
  {
   "cell_type": "markdown",
   "id": "2fd017c5-e01f-46f7-bd87-8583a2f30c7d",
   "metadata": {},
   "source": [
    "### 2.2 Groups"
   ]
  },
  {
   "cell_type": "code",
   "execution_count": 42,
   "id": "c1d99895-a9d6-4101-a02a-ca03449b5476",
   "metadata": {},
   "outputs": [],
   "source": [
    "# We can group pattern parts in () inside their definition\n",
    "phone_pattern = re.compile(r'(\\d{3})-(\\d{3})-(\\d{4})')"
   ]
  },
  {
   "cell_type": "code",
   "execution_count": 43,
   "id": "4c58e017-e796-42e2-9314-16c0c30af70a",
   "metadata": {},
   "outputs": [],
   "source": [
    "results = re.search(phone_pattern,text)"
   ]
  },
  {
   "cell_type": "code",
   "execution_count": 44,
   "id": "5e202e82-a4de-4716-b244-b492dc3ac5ee",
   "metadata": {},
   "outputs": [
    {
     "data": {
      "text/plain": [
       "'408-555-1234'"
      ]
     },
     "execution_count": 44,
     "metadata": {},
     "output_type": "execute_result"
    }
   ],
   "source": [
    "# The entire result\n",
    "results.group()"
   ]
  },
  {
   "cell_type": "code",
   "execution_count": 45,
   "id": "667ec63b-a2f8-440b-9b83-ab3f12200edb",
   "metadata": {},
   "outputs": [
    {
     "data": {
      "text/plain": [
       "'408'"
      ]
     },
     "execution_count": 45,
     "metadata": {},
     "output_type": "execute_result"
    }
   ],
   "source": [
    "# Can then also call by group position.\n",
    "# remember groups were separated by parentheses ()\n",
    "# Something to note is that group ordering starts at 1.\n",
    "# Passing in 0 returns everything\n",
    "results.group(1)"
   ]
  },
  {
   "cell_type": "code",
   "execution_count": 46,
   "id": "1889c32c-2c46-41b8-b7c5-7ed304adb14f",
   "metadata": {},
   "outputs": [
    {
     "data": {
      "text/plain": [
       "'555'"
      ]
     },
     "execution_count": 46,
     "metadata": {},
     "output_type": "execute_result"
    }
   ],
   "source": [
    "results.group(2)"
   ]
  },
  {
   "cell_type": "code",
   "execution_count": 47,
   "id": "2dda92e0-8a2a-4986-8457-7877cb1bcf53",
   "metadata": {},
   "outputs": [
    {
     "data": {
      "text/plain": [
       "'1234'"
      ]
     },
     "execution_count": 47,
     "metadata": {},
     "output_type": "execute_result"
    }
   ],
   "source": [
    "results.group(3)"
   ]
  },
  {
   "cell_type": "markdown",
   "id": "719bafbc-ac1b-4795-8330-8c251e9ccd43",
   "metadata": {},
   "source": [
    "### 2.3 OR Statements: `|`"
   ]
  },
  {
   "cell_type": "code",
   "execution_count": 48,
   "id": "b88c86e3-bf0f-4ac3-a9b0-df35cb29a716",
   "metadata": {},
   "outputs": [
    {
     "data": {
      "text/plain": [
       "<re.Match object; span=(5, 8), match='man'>"
      ]
     },
     "execution_count": 48,
     "metadata": {},
     "output_type": "execute_result"
    }
   ],
   "source": [
    "re.search(r\"man|woman\",\"This man was here.\")"
   ]
  },
  {
   "cell_type": "code",
   "execution_count": 49,
   "id": "89620dcf-7079-40cb-a9c3-fb92108f0de1",
   "metadata": {},
   "outputs": [
    {
     "data": {
      "text/plain": [
       "<re.Match object; span=(5, 10), match='woman'>"
      ]
     },
     "execution_count": 49,
     "metadata": {},
     "output_type": "execute_result"
    }
   ],
   "source": [
    "re.search(r\"man|woman\",\"This woman was here.\")"
   ]
  },
  {
   "cell_type": "markdown",
   "id": "da026b5c-3ff2-4bf5-943e-bee7b926667a",
   "metadata": {},
   "source": [
    "### 2.4 Wildcards: `.`"
   ]
  },
  {
   "cell_type": "code",
   "execution_count": 50,
   "id": "ea97ae77-f4da-4a29-97ae-3f2f543fa4e0",
   "metadata": {},
   "outputs": [
    {
     "data": {
      "text/plain": [
       "['cat', 'hat', 'sat']"
      ]
     },
     "execution_count": 50,
     "metadata": {},
     "output_type": "execute_result"
    }
   ],
   "source": [
    "re.findall(r\".at\",\"The cat in the hat sat here.\")"
   ]
  },
  {
   "cell_type": "code",
   "execution_count": 54,
   "id": "112cbaca-2ae8-4c18-869c-e4a7e2c10d59",
   "metadata": {},
   "outputs": [
    {
     "data": {
      "text/plain": [
       "['bat', 'lat']"
      ]
     },
     "execution_count": 54,
     "metadata": {},
     "output_type": "execute_result"
    }
   ],
   "source": [
    "# Note that . means exactly one character\n",
    "re.findall(r\".at\",\"The bat went splat\")"
   ]
  },
  {
   "cell_type": "code",
   "execution_count": 55,
   "id": "0aa8a9be-f170-4fc7-8f3d-94b11f8a3252",
   "metadata": {},
   "outputs": [
    {
     "data": {
      "text/plain": [
       "['e bat', 'splat']"
      ]
     },
     "execution_count": 55,
     "metadata": {},
     "output_type": "execute_result"
    }
   ],
   "source": [
    "# Similarly, several . mean that amount of characters\n",
    "re.findall(r\"...at\",\"The bat went splat\")"
   ]
  },
  {
   "cell_type": "code",
   "execution_count": 56,
   "id": "383fc54d-ea31-4f8a-901f-34030c5ca995",
   "metadata": {},
   "outputs": [
    {
     "data": {
      "text/plain": [
       "['bat', 'splat']"
      ]
     },
     "execution_count": 56,
     "metadata": {},
     "output_type": "execute_result"
    }
   ],
   "source": [
    "# Solution: \\S\n",
    "# One or more non-whitespace that ends with 'at'\n",
    "re.findall(r'\\S+at',\"The bat went splat\")"
   ]
  },
  {
   "cell_type": "markdown",
   "id": "38a5a08c-411a-4e48-ac26-13d891c8d57d",
   "metadata": {},
   "source": [
    "### 2.5 Starts with and Ends with: `^,$`"
   ]
  },
  {
   "cell_type": "code",
   "execution_count": 57,
   "id": "243ee737-e1be-4087-a0d3-b75b5f1da0ad",
   "metadata": {},
   "outputs": [
    {
     "data": {
      "text/plain": [
       "['2']"
      ]
     },
     "execution_count": 57,
     "metadata": {},
     "output_type": "execute_result"
    }
   ],
   "source": [
    "# Ends with: $\n",
    "# Ends with a number\n",
    "re.findall(r'\\d$','This ends with a number 2')"
   ]
  },
  {
   "cell_type": "code",
   "execution_count": 58,
   "id": "4585d973-c2b3-44a4-ac25-1ea1dfb64fcc",
   "metadata": {},
   "outputs": [
    {
     "data": {
      "text/plain": [
       "['1']"
      ]
     },
     "execution_count": 58,
     "metadata": {},
     "output_type": "execute_result"
    }
   ],
   "source": [
    "# Starts with: ^\n",
    "# Starts with a number\n",
    "re.findall(r'^\\d','1 is the loneliest number.')"
   ]
  },
  {
   "cell_type": "markdown",
   "id": "ad03fd3e-ed5f-4e9e-9065-67d86181b7e9",
   "metadata": {},
   "source": [
    "### 2.6 Exclusion: `[^]`"
   ]
  },
  {
   "cell_type": "code",
   "execution_count": 59,
   "id": "77099428-7e31-4acf-868d-0fcde3b0a962",
   "metadata": {},
   "outputs": [],
   "source": [
    "# To exclude characters, \n",
    "# we can use the ^ symbol in conjunction with a set of brackets []\n",
    "phrase = \"there are 3 numbers 34 inside 5 this sentence.\""
   ]
  },
  {
   "cell_type": "code",
   "execution_count": 61,
   "id": "3077acd2-6625-448f-a4a6-26c302dd8ded",
   "metadata": {},
   "outputs": [
    {
     "data": {
      "text/plain": [
       "['t',\n",
       " 'h',\n",
       " 'e',\n",
       " 'r',\n",
       " 'e',\n",
       " ' ',\n",
       " 'a',\n",
       " 'r',\n",
       " 'e',\n",
       " ' ',\n",
       " ' ',\n",
       " 'n',\n",
       " 'u',\n",
       " 'm',\n",
       " 'b',\n",
       " 'e',\n",
       " 'r',\n",
       " 's',\n",
       " ' ',\n",
       " ' ',\n",
       " 'i',\n",
       " 'n',\n",
       " 's',\n",
       " 'i',\n",
       " 'd',\n",
       " 'e',\n",
       " ' ',\n",
       " ' ',\n",
       " 't',\n",
       " 'h',\n",
       " 'i',\n",
       " 's',\n",
       " ' ',\n",
       " 's',\n",
       " 'e',\n",
       " 'n',\n",
       " 't',\n",
       " 'e',\n",
       " 'n',\n",
       " 'c',\n",
       " 'e',\n",
       " '.']"
      ]
     },
     "execution_count": 61,
     "metadata": {},
     "output_type": "execute_result"
    }
   ],
   "source": [
    "# Match: everything execot digits\n",
    "re.findall(r'[^\\d]',phrase)"
   ]
  },
  {
   "cell_type": "code",
   "execution_count": 62,
   "id": "d3dbb5b3-5600-41a6-b7a9-4366c899fcf4",
   "metadata": {},
   "outputs": [
    {
     "data": {
      "text/plain": [
       "['there are ', ' numbers ', ' inside ', ' this sentence.']"
      ]
     },
     "execution_count": 62,
     "metadata": {},
     "output_type": "execute_result"
    }
   ],
   "source": [
    "# Get words back together: +\n",
    "re.findall(r'[^\\d]+',phrase)"
   ]
  },
  {
   "cell_type": "code",
   "execution_count": 64,
   "id": "73187032-f543-48bd-b2d2-d5990a7caf5b",
   "metadata": {},
   "outputs": [],
   "source": [
    "# We can use this to remove punctuation from a sentence\n",
    "test_phrase = 'This is a string! But it has punctuation. How can we remove it?'"
   ]
  },
  {
   "cell_type": "code",
   "execution_count": 65,
   "id": "c3775919-2628-42cd-8a81-7cd64ed5ad49",
   "metadata": {},
   "outputs": [
    {
     "data": {
      "text/plain": [
       "['This',\n",
       " 'is',\n",
       " 'a',\n",
       " 'string',\n",
       " 'But',\n",
       " 'it',\n",
       " 'has',\n",
       " 'punctuation',\n",
       " 'How',\n",
       " 'can',\n",
       " 'we',\n",
       " 'remove',\n",
       " 'it']"
      ]
     },
     "execution_count": 65,
     "metadata": {},
     "output_type": "execute_result"
    }
   ],
   "source": [
    "re.findall('[^!.? ]+',test_phrase)"
   ]
  },
  {
   "cell_type": "code",
   "execution_count": 66,
   "id": "603ca67d-0618-489d-a63c-580cafab28ee",
   "metadata": {},
   "outputs": [],
   "source": [
    "clean = ' '.join(re.findall('[^!.? ]+',test_phrase))"
   ]
  },
  {
   "cell_type": "code",
   "execution_count": 67,
   "id": "88f6f89e-0aa3-4fee-8c4e-4b1eef1d6416",
   "metadata": {},
   "outputs": [
    {
     "data": {
      "text/plain": [
       "'This is a string But it has punctuation How can we remove it'"
      ]
     },
     "execution_count": 67,
     "metadata": {},
     "output_type": "execute_result"
    }
   ],
   "source": [
    "clean"
   ]
  },
  {
   "cell_type": "markdown",
   "id": "f25b5855-e023-43c2-bacb-ba55d862a444",
   "metadata": {},
   "source": [
    "### 2.7 Brackets for Grouping (Words): `[]+`"
   ]
  },
  {
   "cell_type": "code",
   "execution_count": 68,
   "id": "c1b90b03-0a3c-4337-81b8-f044e9b53e31",
   "metadata": {},
   "outputs": [],
   "source": [
    "text = 'Only find the hypen-words in this sentence. But you do not know how long-ish they are'"
   ]
  },
  {
   "cell_type": "code",
   "execution_count": 70,
   "id": "56882acb-a70a-413e-b745-125d66e01b7b",
   "metadata": {},
   "outputs": [
    {
     "data": {
      "text/plain": [
       "['hypen-words', 'long-ish']"
      ]
     },
     "execution_count": 70,
     "metadata": {},
     "output_type": "execute_result"
    }
   ],
   "source": [
    "# We want to find words with a hyphen\n",
    "# [\\w]+: any number of alphanumeric characters\n",
    "re.findall(r'[\\w]+-[\\w]+',text)"
   ]
  },
  {
   "cell_type": "markdown",
   "id": "d277561e-9e3c-4733-92a4-9d677fe5fc0f",
   "metadata": {},
   "source": [
    "### 2.8 Parenthesis for Multiple Options"
   ]
  },
  {
   "cell_type": "code",
   "execution_count": 89,
   "id": "2e7a5a6f-d77c-4be0-97f4-51d441d73936",
   "metadata": {},
   "outputs": [],
   "source": [
    "# Find words that start with cat and end with one of these options: 'fish','nap', or 'claw'\n",
    "text = 'Hello, would you like some catfish?'\n",
    "texttwo = \"Hello, would you like to take a catnap?\"\n",
    "textthree = \"Hello, have you seen this caterpillar?\""
   ]
  },
  {
   "cell_type": "code",
   "execution_count": 90,
   "id": "1bfe7cd4-7e48-4d58-ad8d-357cccbe6a66",
   "metadata": {},
   "outputs": [
    {
     "data": {
      "text/plain": [
       "<re.Match object; span=(27, 34), match='catfish'>"
      ]
     },
     "execution_count": 90,
     "metadata": {},
     "output_type": "execute_result"
    }
   ],
   "source": [
    "re.search(r'cat(fish|nap|claw)',text)"
   ]
  },
  {
   "cell_type": "code",
   "execution_count": 91,
   "id": "bbae0e61-1718-41be-b700-cf21d134c387",
   "metadata": {},
   "outputs": [
    {
     "data": {
      "text/plain": [
       "<re.Match object; span=(32, 38), match='catnap'>"
      ]
     },
     "execution_count": 91,
     "metadata": {},
     "output_type": "execute_result"
    }
   ],
   "source": [
    "re.search(r'cat(fish|nap|claw)',texttwo)"
   ]
  },
  {
   "cell_type": "code",
   "execution_count": 92,
   "id": "e34904b5-c9a2-4003-ba02-f56fa01e768f",
   "metadata": {},
   "outputs": [],
   "source": [
    "# None returned\n",
    "re.search(r'cat(fish|nap|claw)',textthree)"
   ]
  },
  {
   "cell_type": "markdown",
   "id": "0928d9b9-ef43-465e-9c4f-3ac6cd142930",
   "metadata": {},
   "source": [
    "### 2.9 Example: Find Emails"
   ]
  },
  {
   "cell_type": "code",
   "execution_count": 96,
   "id": "4afd062a-2b1f-47b1-95e3-65d0292ebfac",
   "metadata": {},
   "outputs": [],
   "source": [
    "text = \"This is a nice email: name@service.com\""
   ]
  },
  {
   "cell_type": "code",
   "execution_count": 97,
   "id": "c1def43f-bd5f-4c62-a1c6-88f47b751466",
   "metadata": {},
   "outputs": [
    {
     "data": {
      "text/plain": [
       "['name@service.com']"
      ]
     },
     "execution_count": 97,
     "metadata": {},
     "output_type": "execute_result"
    }
   ],
   "source": [
    "re.findall(r'\\w+@\\w+.\\D{3}',text)"
   ]
  },
  {
   "cell_type": "code",
   "execution_count": null,
   "id": "537861f3-7e33-4b23-b02e-a5e7f1c13cc5",
   "metadata": {},
   "outputs": [],
   "source": []
  }
 ],
 "metadata": {
  "kernelspec": {
   "display_name": "Python 3 (ipykernel)",
   "language": "python",
   "name": "python3"
  },
  "language_info": {
   "codemirror_mode": {
    "name": "ipython",
    "version": 3
   },
   "file_extension": ".py",
   "mimetype": "text/x-python",
   "name": "python",
   "nbconvert_exporter": "python",
   "pygments_lexer": "ipython3",
   "version": "3.7.11"
  }
 },
 "nbformat": 4,
 "nbformat_minor": 5
}
