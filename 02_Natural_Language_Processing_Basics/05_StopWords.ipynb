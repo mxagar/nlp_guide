{
 "cells": [
  {
   "cell_type": "markdown",
   "id": "14bdc63b-2f03-43c5-ab54-fcca410c047d",
   "metadata": {},
   "source": [
    "# Stop Words"
   ]
  },
  {
   "cell_type": "markdown",
   "id": "518831a6-41a9-44a2-ad93-b039ee67f013",
   "metadata": {},
   "source": [
    "**Stop words** are really common words that don't give any additional information; therefore, they are usually removed from the text. Each language has its built-in list; in English, spacy has 326 stop words. Also, we can remove or add words from/to the list; however, the list is not saved when we exit.\n",
    "\n",
    "*Diclaimer: I made this notebook while following the Udemy course [NLP - Natural Language Processing with Python](https://www.udemy.com/course/nlp-natural-language-processing-with-python/) by José Marcial Portilla. The original course notebooks and materials were provided with a download link, I haven't found a repository to fork from.*"
   ]
  },
  {
   "cell_type": "code",
   "execution_count": 12,
   "id": "fb4fad44-9e48-4262-adae-b0f1472439e3",
   "metadata": {},
   "outputs": [],
   "source": [
    "import spacy\n",
    "nlp = spacy.load('en_core_web_sm')"
   ]
  },
  {
   "cell_type": "code",
   "execution_count": 13,
   "id": "edae51ac-c215-4b5a-b626-c5d8d5f7f867",
   "metadata": {},
   "outputs": [
    {
     "name": "stdout",
     "output_type": "stream",
     "text": [
      "{'whole', 'those', 'hers', 'top', 'whom', 'along', 'so', 'thereupon', 'which', 'further', 'twelve', 'while', 'had', 'go', \"'re\", 'sometime', \"'d\", 'was', 'this', 'put', 'you', 'myself', '’s', 'if', 'first', 'because', 'did', 'off', 'whose', 'four', 'last', 'nevertheless', 'against', 'done', 'his', 'they', 'nothing', 'any', 'since', 'whereby', 'is', 'made', 'whereafter', 'we', 'own', 'out', 'anyone', 'how', 'has', 'became', 'behind', 'onto', 'toward', 'something', 'themselves', 'across', 'it', 'hereby', 'when', 'as', '‘d', 'yet', 'be', 'both', 'her', 'whenever', 'doing', 'therefore', 'due', 'ourselves', '‘ll', 'some', 'ca', 'herein', 'almost', 'him', 'elsewhere', 'sometimes', 'wherein', 'above', 'our', 'at', 'nor', 'whoever', 'less', 'such', 'noone', 'with', 'never', 'others', 'unless', 'name', '’m', 'there', 'hence', 'into', 'over', 'for', 'ours', 'then', 'latter', 'also', 'what', 'them', 'ten', 'yourself', 'seemed', 'himself', 're', 'anywhere', 'former', 'seems', 'or', 'during', 'via', 'throughout', 'your', \"'m\", 'mostly', 'either', 'she', 'us', 'few', 'the', 'thereafter', 'beforehand', 'about', 'eleven', 'still', '‘s', 'already', 'whereas', 'been', 'empty', 'wherever', 'however', 'in', 'per', 'below', 'my', 'yourselves', '’ve', 'me', 'several', 'rather', 'here', 'its', 'meanwhile', 'nowhere', 'enough', 'take', 'that', 'whence', 'whither', 'none', 'but', 'though', 'even', 'one', 'who', 'amongst', 'no', 'namely', 'full', 'must', 'i', 'get', '’d', 'keep', 'by', 'cannot', 'bottom', 'should', 'everything', 'only', 'therein', 'otherwise', 'n’t', 'not', 'eight', 'much', 'and', 'once', 'forty', 'btw', 'although', 'a', 'very', 'become', 'would', 'might', 'mine', 'could', 'down', 'make', 'thence', 'quite', 'whether', 'thus', 'using', 'fifty', 'same', 'other', 'he', 'perhaps', 'all', 'after', 'show', 'may', 'part', 'again', 'yours', 'have', 'somewhere', 'hereupon', 'two', 'together', 'around', 'why', 'really', 'an', 'becoming', 'nobody', 'where', 'front', 'were', 'twenty', 'someone', 'moreover', 'say', 'anyhow', 'hundred', 'these', 'whatever', 'move', 'hereafter', '‘re', 'becomes', \"'ll\", 'many', 'on', 'does', \"n't\", 'seeming', 'than', 'seem', 'three', 'everywhere', 'call', 'herself', 'else', 'within', 'more', 'upon', 'without', 'another', 'among', \"'ve\", 'everyone', '‘m', 'now', '‘ve', 'alone', 'anyway', 'thereby', 'third', 'to', 'n‘t', 'just', 'often', 'except', 'please', 'are', 'do', 'their', 'towards', 'being', 'next', 'from', 'back', 'am', 'until', 'latterly', 'through', 'regarding', 'afterwards', 'sixty', 'fifteen', 'formerly', 'somehow', 'nine', 'itself', 'too', 'amount', 'see', 'ever', 'most', 'of', 'whereupon', 'besides', 'before', 'between', '’re', 'beside', 'always', 'will', \"'s\", 'neither', 'used', 'anything', 'well', 'side', 'each', 'up', 'every', 'least', 'serious', '’ll', 'can', 'indeed', 'under', 'give', 'thru', 'five', 'various', 'six'}\n"
     ]
    }
   ],
   "source": [
    "# Print the set of SpaCy's default stop words (remember that sets are unordered)\n",
    "print(nlp.Defaults.stop_words)"
   ]
  },
  {
   "cell_type": "code",
   "execution_count": 14,
   "id": "d8b21b87-7e15-4555-ba6d-7099a0c58b41",
   "metadata": {},
   "outputs": [
    {
     "data": {
      "text/plain": [
       "326"
      ]
     },
     "execution_count": 14,
     "metadata": {},
     "output_type": "execute_result"
    }
   ],
   "source": [
    "len(nlp.Defaults.stop_words)"
   ]
  },
  {
   "cell_type": "code",
   "execution_count": 4,
   "id": "84d2f903-e3fb-41dd-a635-2f322115bf95",
   "metadata": {},
   "outputs": [
    {
     "data": {
      "text/plain": [
       "True"
      ]
     },
     "execution_count": 4,
     "metadata": {},
     "output_type": "execute_result"
    }
   ],
   "source": [
    "# Check is a word is a stop word\n",
    "nlp.vocab['myself'].is_stop"
   ]
  },
  {
   "cell_type": "code",
   "execution_count": 5,
   "id": "23a23166-ccb7-4b4a-b71f-1363f5c65ebf",
   "metadata": {},
   "outputs": [
    {
     "data": {
      "text/plain": [
       "False"
      ]
     },
     "execution_count": 5,
     "metadata": {},
     "output_type": "execute_result"
    }
   ],
   "source": [
    "nlp.vocab['mystery'].is_stop"
   ]
  },
  {
   "cell_type": "code",
   "execution_count": 7,
   "id": "71ed961c-4f31-463a-ae36-3f0d6e6dcc98",
   "metadata": {},
   "outputs": [],
   "source": [
    "# Add the word to the set of stop words\n",
    "# Use lowercase!\n",
    "nlp.Defaults.stop_words.add('btw')\n",
    "# Additionally, we need to set the stop_word tag on the lexeme\n",
    "nlp.vocab['btw'].is_stop = True"
   ]
  },
  {
   "cell_type": "code",
   "execution_count": 9,
   "id": "41cf2a3a-61bb-425b-bcd2-25392ecdd724",
   "metadata": {},
   "outputs": [
    {
     "data": {
      "text/plain": [
       "True"
      ]
     },
     "execution_count": 9,
     "metadata": {},
     "output_type": "execute_result"
    }
   ],
   "source": [
    "nlp.vocab['btw'].is_stop"
   ]
  },
  {
   "cell_type": "code",
   "execution_count": 10,
   "id": "bb627115-4c78-45b4-8828-c3c6fdb0ae8d",
   "metadata": {},
   "outputs": [],
   "source": [
    "# Remove a stop word\n",
    "nlp.Defaults.stop_words.remove('beyond')\n",
    "# Remove the stop_word tag from the lexeme\n",
    "nlp.vocab['beyond'].is_stop = False"
   ]
  },
  {
   "cell_type": "code",
   "execution_count": 11,
   "id": "4e114316-5095-462e-8983-7f6d31e83314",
   "metadata": {},
   "outputs": [
    {
     "data": {
      "text/plain": [
       "False"
      ]
     },
     "execution_count": 11,
     "metadata": {},
     "output_type": "execute_result"
    }
   ],
   "source": [
    "nlp.vocab['beyond'].is_stop"
   ]
  },
  {
   "cell_type": "code",
   "execution_count": null,
   "id": "ac7d1249-305e-47d7-806e-9287defb3df5",
   "metadata": {},
   "outputs": [],
   "source": []
  }
 ],
 "metadata": {
  "kernelspec": {
   "display_name": "Python 3 (ipykernel)",
   "language": "python",
   "name": "python3"
  },
  "language_info": {
   "codemirror_mode": {
    "name": "ipython",
    "version": 3
   },
   "file_extension": ".py",
   "mimetype": "text/x-python",
   "name": "python",
   "nbconvert_exporter": "python",
   "pygments_lexer": "ipython3",
   "version": "3.7.11"
  }
 },
 "nbformat": 4,
 "nbformat_minor": 5
}
