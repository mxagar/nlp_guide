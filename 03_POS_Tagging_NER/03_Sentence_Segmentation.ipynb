{
 "cells": [
  {
   "cell_type": "markdown",
   "id": "c3a56d2e-fa07-4077-ae98-e08761e6c94c",
   "metadata": {},
   "source": [
    "# Sentence Segmentation"
   ]
  },
  {
   "cell_type": "markdown",
   "id": "99516219-efec-4819-8cef-dafd86874b7f",
   "metadata": {},
   "source": [
    "Spacy does a great job in segmenting standard sentences separated with `.`. These can be accessed with the generator `doc.sents`, which provides lists of tokens between basedon the flag `token.is_sent_start`.\n",
    "\n",
    "However, we may want to re-define how sentences are segmented, for instance:\n",
    "- Cut sentences when `;` appears\n",
    "- Cut sentences **only** when `\\n` or line breaks appear (e.g., in poetry), not under `.`\n",
    "\n",
    "This notebook presents how to deal with such cases.\n",
    "\n",
    "Overview of contents:\n",
    "1. Examples of Sentence Segmentation\n",
    "2. Adding New Sentence Segmentation Rules\n",
    "3. Changing Sentence Segmentation Rules (missing section, because code didn't work for my spacy lib version)\n",
    "\n",
    "*Diclaimer: I made this notebook while following the Udemy course [NLP - Natural Language Processing with Python](https://www.udemy.com/course/nlp-natural-language-processing-with-python/) by José Marcial Portilla. The original course notebooks and materials were provided with a download link, I haven't found a repository to fork from.*"
   ]
  },
  {
   "cell_type": "markdown",
   "id": "2a9b97b3-1c94-44fb-bcb1-58df8ade5607",
   "metadata": {},
   "source": [
    "## 1. Examples of Sentence Segmentation"
   ]
  },
  {
   "cell_type": "code",
   "execution_count": 1,
   "id": "9bd58733-0e67-4056-a560-7dbc2b2557c2",
   "metadata": {},
   "outputs": [],
   "source": [
    "import spacy\n",
    "nlp = spacy.load('en_core_web_sm')"
   ]
  },
  {
   "cell_type": "code",
   "execution_count": 2,
   "id": "dfd11b58-0f67-442f-b452-a666f5b841be",
   "metadata": {},
   "outputs": [],
   "source": [
    "doc = nlp(u'This is the first sentence. This is another sentence. This is the last sentence.')"
   ]
  },
  {
   "cell_type": "code",
   "execution_count": 4,
   "id": "03e6c4c1-1c7a-47fe-a8e8-453e9642511a",
   "metadata": {},
   "outputs": [
    {
     "name": "stdout",
     "output_type": "stream",
     "text": [
      "This is the first sentence.\n",
      "This is another sentence.\n",
      "This is the last sentence.\n"
     ]
    }
   ],
   "source": [
    "# Standard sentence segmentation: on `.`\n",
    "for sent in doc.sents:\n",
    "    print(sent)"
   ]
  },
  {
   "cell_type": "code",
   "execution_count": 5,
   "id": "582a8f9a-22f3-4e5e-9752-a5e01343eb63",
   "metadata": {},
   "outputs": [
    {
     "data": {
      "text/plain": [
       "[This is the first sentence.,\n",
       " This is another sentence.,\n",
       " This is the last sentence.]"
      ]
     },
     "execution_count": 5,
     "metadata": {},
     "output_type": "execute_result"
    }
   ],
   "source": [
    "# doc.sents is a generator!\n",
    "doc_sents = [sent for sent in doc.sents]\n",
    "doc_sents"
   ]
  },
  {
   "cell_type": "code",
   "execution_count": 6,
   "id": "3f21af82-835b-46d3-9524-0bc993489180",
   "metadata": {},
   "outputs": [
    {
     "data": {
      "text/plain": [
       "[This is the first sentence.,\n",
       " This is another sentence.,\n",
       " This is the last sentence.]"
      ]
     },
     "execution_count": 6,
     "metadata": {},
     "output_type": "execute_result"
    }
   ],
   "source": [
    "list(doc.sents)"
   ]
  },
  {
   "cell_type": "code",
   "execution_count": 7,
   "id": "38eab28d-21b1-4caa-a852-1b4fa2ba3983",
   "metadata": {},
   "outputs": [
    {
     "data": {
      "text/plain": [
       "spacy.tokens.span.Span"
      ]
     },
     "execution_count": 7,
     "metadata": {},
     "output_type": "execute_result"
    }
   ],
   "source": [
    "# Sentences are really Spans!\n",
    "type(doc_sents[1])"
   ]
  },
  {
   "cell_type": "code",
   "execution_count": 8,
   "id": "ba69e1d5-4529-40f3-b94a-09e4978fa9d2",
   "metadata": {},
   "outputs": [
    {
     "name": "stdout",
     "output_type": "stream",
     "text": [
      "6 11\n"
     ]
    }
   ],
   "source": [
    "print(doc_sents[1].start, doc_sents[1].end)"
   ]
  },
  {
   "cell_type": "markdown",
   "id": "823c9048-0e86-47d9-8e10-98e3b994db25",
   "metadata": {},
   "source": [
    "## 2. Adding New Sentence Segmentation Rules"
   ]
  },
  {
   "cell_type": "markdown",
   "id": "6d6cc64d-1eec-4e33-bf28-3c78a30c927f",
   "metadata": {},
   "source": [
    "We can **extend** the sentence segmentation rules, for instance to break sentences on `;`."
   ]
  },
  {
   "cell_type": "code",
   "execution_count": 37,
   "id": "bf6a7b46-f82f-4051-9e79-01e6daf8ba42",
   "metadata": {},
   "outputs": [],
   "source": [
    "nlp = spacy.load('en_core_web_sm')"
   ]
  },
  {
   "cell_type": "code",
   "execution_count": 38,
   "id": "5c936a9e-d2b2-41df-bac9-be8e104b58ba",
   "metadata": {},
   "outputs": [],
   "source": [
    "from spacy.language import Language"
   ]
  },
  {
   "cell_type": "code",
   "execution_count": 39,
   "id": "50e419b0-90b9-4f23-a94c-796248d5b952",
   "metadata": {},
   "outputs": [],
   "source": [
    "doc3 = nlp(u'\"Management is doing things right; leadership is doing the right things.\" -Peter Drucker')"
   ]
  },
  {
   "cell_type": "code",
   "execution_count": 40,
   "id": "f589f7cd-5a81-44eb-8b4f-0e2d1e11348b",
   "metadata": {},
   "outputs": [
    {
     "name": "stdout",
     "output_type": "stream",
     "text": [
      "\"Management is doing things right; leadership is doing the right things.\"\n",
      "-Peter Drucker\n"
     ]
    }
   ],
   "source": [
    "# The quote is taken as a complete sentence; but we want to break it in `;`\n",
    "for sent in doc3.sents:\n",
    "    print(sent)"
   ]
  },
  {
   "cell_type": "code",
   "execution_count": 41,
   "id": "b36b7081-8f15-4aa8-a702-4feef3378c52",
   "metadata": {},
   "outputs": [],
   "source": [
    "# ADD A NEW RULE TO THE PIPELINE\n",
    "@Language.component(\"colon_eol\")\n",
    "def set_custom_boundaries(doc):\n",
    "    for token in doc[:-1]:\n",
    "        if token.text == ';':\n",
    "            doc[token.i+1].is_sent_start = True\n",
    "    return doc"
   ]
  },
  {
   "cell_type": "code",
   "execution_count": 42,
   "id": "370fa54c-0980-4a54-81ce-bef146d005e7",
   "metadata": {},
   "outputs": [
    {
     "data": {
      "text/plain": [
       "<function __main__.set_custom_boundaries(doc)>"
      ]
     },
     "execution_count": 42,
     "metadata": {},
     "output_type": "execute_result"
    }
   ],
   "source": [
    "nlp.add_pipe(\"colon_eol\", before='parser')"
   ]
  },
  {
   "cell_type": "code",
   "execution_count": 43,
   "id": "a707a4d6-7641-40b0-9f78-02f924cd49c5",
   "metadata": {},
   "outputs": [
    {
     "data": {
      "text/plain": [
       "['tok2vec',\n",
       " 'tagger',\n",
       " 'colon_eol',\n",
       " 'parser',\n",
       " 'attribute_ruler',\n",
       " 'lemmatizer',\n",
       " 'ner']"
      ]
     },
     "execution_count": 43,
     "metadata": {},
     "output_type": "execute_result"
    }
   ],
   "source": [
    "nlp.pipe_names"
   ]
  },
  {
   "cell_type": "code",
   "execution_count": 44,
   "id": "10ad030c-c8a7-4558-8baf-53f9ab7deab7",
   "metadata": {},
   "outputs": [],
   "source": [
    "# Re-run the Doc object creation\n",
    "doc4 = nlp(u'\"Management is doing things right; leadership is doing the right things.\" -Peter Drucker')"
   ]
  },
  {
   "cell_type": "code",
   "execution_count": 45,
   "id": "8dd26c26-091f-4d50-a4a9-6e8735aadc35",
   "metadata": {},
   "outputs": [
    {
     "name": "stdout",
     "output_type": "stream",
     "text": [
      "\"Management is doing things right;\n",
      "leadership is doing the right things.\"\n",
      "-Peter Drucker\n"
     ]
    }
   ],
   "source": [
    "# New segmentation\n",
    "for sent in doc4.sents:\n",
    "    print(sent)"
   ]
  },
  {
   "cell_type": "markdown",
   "id": "2c33ddf9-c8a6-4cc7-bb7d-b9c8bd502f05",
   "metadata": {},
   "source": [
    "## 3. Changing Sentence Segmentation Rules"
   ]
  },
  {
   "cell_type": "markdown",
   "id": "6881455b-7bf4-4a5a-bbeb-851f9ebfd1fd",
   "metadata": {},
   "source": [
    "We can also **replace** the sentence segmentation rules. For instance, break sentences *only* is new line symbol `\\n` is found.\n",
    "\n",
    "Note that this section is missing because the code did not work. I didn't have time to fix it. I think the reason is a newer version of spacz, which has changed the interfaces."
   ]
  }
 ],
 "metadata": {
  "kernelspec": {
   "display_name": "Python 3 (ipykernel)",
   "language": "python",
   "name": "python3"
  },
  "language_info": {
   "codemirror_mode": {
    "name": "ipython",
    "version": 3
   },
   "file_extension": ".py",
   "mimetype": "text/x-python",
   "name": "python",
   "nbconvert_exporter": "python",
   "pygments_lexer": "ipython3",
   "version": "3.7.11"
  }
 },
 "nbformat": 4,
 "nbformat_minor": 5
}
