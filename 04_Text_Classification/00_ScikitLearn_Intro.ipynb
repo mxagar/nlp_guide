{
 "cells": [
  {
   "cell_type": "markdown",
   "id": "d70928c1-672b-4089-8c1c-1a9a3fa5cac7",
   "metadata": {},
   "source": [
    "# Introduction to ML Concepts and Scikit-Learn"
   ]
  },
  {
   "cell_type": "markdown",
   "id": "66410b60-3200-4151-b2c4-0ac12111071f",
   "metadata": {},
   "source": [
    "This notebook is a brief introduction to Machine Learning and Sckit-Learn.\n",
    "\n",
    "We are going to work on the [SMS Spam Dataset @ UCI](https://archive.ics.uci.edu/ml/datasets/SMS+Spam+Collection) as a starter to check the basic ML pipeline with Scikit-Learn. The dataset labels an SMS text as `spam` or `ham`; additionally we have the SMS length and how many punctuation symbols were used. Steps: \n",
    "\n",
    "- First, we are going to predict `ham`/`spam` only with the numerical features of `length` and `punct` in the present notebook. However, these values are not enough to predict significantly better than random guesses.\n",
    "- Then, we're going to extract features from the text in the next notebook.\n",
    "\n",
    "Overview of contents:\n",
    "\n",
    "1. ML Concepts - A Refresher: Supervised vs. Unsupervised ML, Performance Metrics of Regression, Performance Metrics of Classification (Accuracy, Precision, Recall, F1, Confusion Matrix).\n",
    "2. Scikit-Learn Pipeline with SMS Spam Use Case\n",
    "    - 2.1 Explore the Dataset: Target & Predictors\n",
    "        - Target: Ham/Spam\n",
    "        - Predictor 1: Length\n",
    "        - Predictor 2: Punctuation\n",
    "    - 2.2 Train/Test Split\n",
    "    - 2.3 Define, Train & Evaluate Classification Models\n",
    "        - Logistic Regression: Model Training\n",
    "        - Logistic Regression: Model Metrics / Evaluation\n",
    "        - Naive Bayes: Model Training\n",
    "        - Naive Bayes: Model Metrics / Evaluation\n",
    "        - Support Vector Machines: Model Training\n",
    "        - Support Vector Machines: Model Metrics / Evaluation\n"
   ]
  },
  {
   "cell_type": "markdown",
   "id": "eaefdddd-b056-473d-a7f4-f909d4a7667e",
   "metadata": {},
   "source": [
    "*Diclaimer: I made this notebook while following the Udemy course [NLP - Natural Language Processing with Python](https://www.udemy.com/course/nlp-natural-language-processing-with-python/) by José Marcial Portilla. The original course notebooks and materials were provided with a download link, I haven't found a repository to fork from.*"
   ]
  },
  {
   "cell_type": "markdown",
   "id": "a06d8e0a-51e5-458b-990b-0293a70e9b37",
   "metadata": {},
   "source": [
    "## 1. ML Concepts - A Refresher"
   ]
  },
  {
   "cell_type": "markdown",
   "id": "057062a0-5dbf-4d21-b2b3-5df77f27a255",
   "metadata": {},
   "source": [
    "### Types of Machine Learning\n",
    "\n",
    "Most of machine learning techniques are divided in these groups:\n",
    "\n",
    "- Supervised Learning: regression and classification with labelled data\n",
    "- Unsupervised Learning: clustering, anomaly detection and dimenstionality reduction with unlabelled data\n",
    "- Reinforcement Learning: learning through actions with the environment.\n",
    "\n",
    "### Supervised learning\n",
    "\n",
    "We have labelled or annotated samples, which are split\n",
    "- Training split: train model parameters.\n",
    "- Validation split: for adjusting hyperparameters (skipped in the course).\n",
    "- Test split: final performance metric; nothing tested anymore.\n",
    "\n",
    "Usually two types of problems are solved:\n",
    "- Classification: predict the class of a new sample using a model trained with labelled samples.\n",
    "- Regression: predict the continuous value of a sample using a model trained with labelled samples.\n",
    "\n",
    "### Unsupervised learning\n",
    "We don't have labelled data.\n",
    "Usually these kind of problems are solved:\n",
    "- Clustering: data points are grouped due to their similarity; since data is not labelled, the grouping can result to be artificial, if not correctly done.\n",
    "- Anomaly detection: we detect outliers in a dataset, eg, fraud detection; usually we don't have outliers as data, but we recognize them when they appear.\n",
    "- Dimensionality reduction: the number of features of each sample can be reduced either to compress or to better understand the dataset.\n",
    "\n",
    "Since we don't have labels (ground truth), we cannot evaluate the methods that easily."
   ]
  },
  {
   "cell_type": "markdown",
   "id": "07840e1f-25d9-42e0-9c82-552ef03332f2",
   "metadata": {},
   "source": [
    "### Performance evaulation for regression (continuous values)\n",
    "\n",
    "- Mean absolute error: `avg(abs(y-y_hat))`; large errors not punished\n",
    "- (Root) Mean squared error: `sqrt(avg((y-y_hat)^2))`"
   ]
  },
  {
   "cell_type": "markdown",
   "id": "7fc80992-059b-4ea0-8328-39f0ca98b02c",
   "metadata": {},
   "source": [
    "### Performance evaluation for classification (categorical values)\n",
    "\n",
    "**Metrics**\n",
    "- Accuracy = correct predictions / total predictions `= (TP + TN) / (TP + TN + FP + FN)`\n",
    "    - Accuracy is good for balanced datasets = datasets that contain a similar amount of samples for each class\n",
    "    - Why? because if we have a dataset with 99% dogs, the accuracy is surely going to be good by guessing a dog!\n",
    "    - The reverse of the accuracy is the Error Rate = Missclassification Rate: `(FP + FN) / (TP + TN + FP + FN)`\n",
    "\n",
    "- Recall = correct T predictions / all real T samples `= TP / (TP + FN)`\n",
    "    - The ability of a model to find all relevant classesfrom all real T cases, how many are predicted correctly as T?\n",
    "\n",
    "- Precission = correct T predictions / all predicted T samples `= TP / (TP + FP)`\n",
    "    - The ability of a model to identify only the relevant data points from all predicted T cases, how many are correctly/really T?\n",
    "    - We have often a trade-off between Precission & Recall\n",
    "\n",
    "- F1-core `= 2 * (precission * recall) / (precission + recall)`\n",
    "    - It combines both precission & recall, it is the harmonic mean of both\n",
    "    - The harmonic mean is typically used when the average of rates is desired\n",
    "    - It punishes bad rates/values at the extremes, leading to a bad F1-score\n",
    "\n",
    "**Confusion matrix (Type I & II errors)**\n",
    "\n",
    "- Real/Actual (T or F) vs Prediction (T or F)\n",
    "- Quadrants:\n",
    "    - TP\n",
    "    - FN - type II error: these are the really severe errors we'd like to avoid!\n",
    "    - FP - type I error\n",
    "    - TN\n",
    "- From this matrix, we can compute many metrics, among them the ones defined: Accuracy, Precission, Recall, F1-score\n",
    "\n",
    "[Confusion Matrix from the Wikipedia](https://en.wikipedia.org/wiki/Confusion_matrix)\n",
    "\n",
    "![Confusion Matrix (Wikipedia)](../pics/confusion_matrix.png)\n",
    "\n",
    "For each example, we need to pick the most appropriate metric and choose the most appropriate threshold for considering the model performs correctly enough. It's not the same predicting\n",
    "- diseases, severe or light\n",
    "- defects\n",
    "- ..."
   ]
  },
  {
   "cell_type": "markdown",
   "id": "d089a6a9-19d4-444b-8546-e33c97c37753",
   "metadata": {},
   "source": [
    "## 2. Scikit-Learn Pipeline with SMS Spam Use Case"
   ]
  },
  {
   "cell_type": "markdown",
   "id": "1c521d8a-9a78-4806-81e3-b460488ec021",
   "metadata": {},
   "source": [
    "We are going to work on the [SMS Spam Dataset @ UCI](https://archive.ics.uci.edu/ml/datasets/SMS+Spam+Collection) as a starter to check the basic ML pipeline with Scikit-Learn. The dataset labels an SMS text as `spam` or `ham`; additionally we have the SMS length and how many punctuation symbols were used. Steps: \n",
    "\n",
    "- First, we are going to predict `ham`/`spam` only with the numerical features of `length` and `punct` in the present notebook. However, these values are not enough to predict significantly better than random guesses.\n",
    "- Then, we're going to extract features from the text in the next notebook."
   ]
  },
  {
   "cell_type": "markdown",
   "id": "7eca764f-77ea-4c45-a36b-22b3612c13f2",
   "metadata": {},
   "source": [
    "### 2.1 Explore the Dataset: Target & Predictors"
   ]
  },
  {
   "cell_type": "code",
   "execution_count": 1,
   "id": "e1234b12-4ccc-485b-8fdb-eb4e7dd8fc24",
   "metadata": {},
   "outputs": [],
   "source": [
    "import numpy as np\n",
    "import pandas as pd"
   ]
  },
  {
   "cell_type": "code",
   "execution_count": 22,
   "id": "338cdb0f-4cc8-4d41-a29b-aee396f8c3f0",
   "metadata": {},
   "outputs": [
    {
     "data": {
      "text/html": [
       "<div>\n",
       "<style scoped>\n",
       "    .dataframe tbody tr th:only-of-type {\n",
       "        vertical-align: middle;\n",
       "    }\n",
       "\n",
       "    .dataframe tbody tr th {\n",
       "        vertical-align: top;\n",
       "    }\n",
       "\n",
       "    .dataframe thead th {\n",
       "        text-align: right;\n",
       "    }\n",
       "</style>\n",
       "<table border=\"1\" class=\"dataframe\">\n",
       "  <thead>\n",
       "    <tr style=\"text-align: right;\">\n",
       "      <th></th>\n",
       "      <th>label</th>\n",
       "      <th>message</th>\n",
       "      <th>length</th>\n",
       "      <th>punct</th>\n",
       "    </tr>\n",
       "  </thead>\n",
       "  <tbody>\n",
       "    <tr>\n",
       "      <th>0</th>\n",
       "      <td>ham</td>\n",
       "      <td>Go until jurong point, crazy.. Available only ...</td>\n",
       "      <td>111</td>\n",
       "      <td>9</td>\n",
       "    </tr>\n",
       "    <tr>\n",
       "      <th>1</th>\n",
       "      <td>ham</td>\n",
       "      <td>Ok lar... Joking wif u oni...</td>\n",
       "      <td>29</td>\n",
       "      <td>6</td>\n",
       "    </tr>\n",
       "    <tr>\n",
       "      <th>2</th>\n",
       "      <td>spam</td>\n",
       "      <td>Free entry in 2 a wkly comp to win FA Cup fina...</td>\n",
       "      <td>155</td>\n",
       "      <td>6</td>\n",
       "    </tr>\n",
       "    <tr>\n",
       "      <th>3</th>\n",
       "      <td>ham</td>\n",
       "      <td>U dun say so early hor... U c already then say...</td>\n",
       "      <td>49</td>\n",
       "      <td>6</td>\n",
       "    </tr>\n",
       "    <tr>\n",
       "      <th>4</th>\n",
       "      <td>ham</td>\n",
       "      <td>Nah I don't think he goes to usf, he lives aro...</td>\n",
       "      <td>61</td>\n",
       "      <td>2</td>\n",
       "    </tr>\n",
       "  </tbody>\n",
       "</table>\n",
       "</div>"
      ],
      "text/plain": [
       "  label                                            message  length  punct\n",
       "0   ham  Go until jurong point, crazy.. Available only ...     111      9\n",
       "1   ham                      Ok lar... Joking wif u oni...      29      6\n",
       "2  spam  Free entry in 2 a wkly comp to win FA Cup fina...     155      6\n",
       "3   ham  U dun say so early hor... U c already then say...      49      6\n",
       "4   ham  Nah I don't think he goes to usf, he lives aro...      61      2"
      ]
     },
     "execution_count": 22,
     "metadata": {},
     "output_type": "execute_result"
    }
   ],
   "source": [
    "# Load dataset; watch out: TAB separated values\n",
    "df = pd.read_csv('../data/smsspamcollection.tsv', sep='\\t')\n",
    "df.head()"
   ]
  },
  {
   "cell_type": "code",
   "execution_count": 37,
   "id": "05166a82-6137-4f12-ada9-40e67b86e658",
   "metadata": {},
   "outputs": [
    {
     "data": {
      "text/plain": [
       "label      0\n",
       "message    0\n",
       "length     0\n",
       "punct      0\n",
       "dtype: int64"
      ]
     },
     "execution_count": 37,
     "metadata": {},
     "output_type": "execute_result"
    }
   ],
   "source": [
    "# ALWAYS check for missing values: none present\n",
    "df.isnull().sum()"
   ]
  },
  {
   "cell_type": "markdown",
   "id": "9fe1a4ee-c886-463e-a51f-f239f3693bec",
   "metadata": {},
   "source": [
    "#### Target: `Ham/Spam`"
   ]
  },
  {
   "cell_type": "code",
   "execution_count": 5,
   "id": "f0f696c8-4075-4724-8b99-b1e8ad1f5bd5",
   "metadata": {},
   "outputs": [
    {
     "data": {
      "text/plain": [
       "5572"
      ]
     },
     "execution_count": 5,
     "metadata": {},
     "output_type": "execute_result"
    }
   ],
   "source": [
    "# Number of SMS\n",
    "len(df)"
   ]
  },
  {
   "cell_type": "code",
   "execution_count": 10,
   "id": "9f05821d-0624-4311-91f2-7ce8eaf7f21b",
   "metadata": {},
   "outputs": [
    {
     "data": {
      "text/plain": [
       "array(['ham', 'spam'], dtype=object)"
      ]
     },
     "execution_count": 10,
     "metadata": {},
     "output_type": "execute_result"
    }
   ],
   "source": [
    "# Check target unique values\n",
    "df['label'].unique()"
   ]
  },
  {
   "cell_type": "code",
   "execution_count": 11,
   "id": "6f82edf4-0513-4518-9403-c8399cc7bfc9",
   "metadata": {},
   "outputs": [
    {
     "data": {
      "text/plain": [
       "ham     4825\n",
       "spam     747\n",
       "Name: label, dtype: int64"
      ]
     },
     "execution_count": 11,
     "metadata": {},
     "output_type": "execute_result"
    }
   ],
   "source": [
    "# Count target values: it is quite unbalanced\n",
    "df['label'].value_counts()"
   ]
  },
  {
   "cell_type": "code",
   "execution_count": 23,
   "id": "fa18026f-5fe2-4472-ac70-f6f5858ccf76",
   "metadata": {},
   "outputs": [
    {
     "data": {
      "text/plain": [
       "0.8659368269921034"
      ]
     },
     "execution_count": 23,
     "metadata": {},
     "output_type": "execute_result"
    }
   ],
   "source": [
    "# To beat random chance, we need to get better accuracy than 86.5%!\n",
    "df['label'].value_counts()[0]/len(df)"
   ]
  },
  {
   "cell_type": "markdown",
   "id": "f855dfbf-23b9-41e6-a678-eb79829c8264",
   "metadata": {},
   "source": [
    "#### Predictor 1: Length"
   ]
  },
  {
   "cell_type": "code",
   "execution_count": 15,
   "id": "bd6921db-5e14-4df5-b3ab-a7dbd044cf58",
   "metadata": {},
   "outputs": [
    {
     "data": {
      "text/plain": [
       "count    5572.000000\n",
       "mean       80.489950\n",
       "std        59.942907\n",
       "min         2.000000\n",
       "25%        36.000000\n",
       "50%        62.000000\n",
       "75%       122.000000\n",
       "max       910.000000\n",
       "Name: length, dtype: float64"
      ]
     },
     "execution_count": 15,
     "metadata": {},
     "output_type": "execute_result"
    }
   ],
   "source": [
    "df['length'].describe()"
   ]
  },
  {
   "cell_type": "code",
   "execution_count": 18,
   "id": "4e3d6811-6869-4ea6-8d2f-2ed4825b608d",
   "metadata": {},
   "outputs": [
    {
     "data": {
      "text/plain": [
       "<AxesSubplot:>"
      ]
     },
     "execution_count": 18,
     "metadata": {},
     "output_type": "execute_result"
    },
    {
     "data": {
      "image/png": "[encoded data removed]",
      "text/plain": [
       "<Figure size 432x288 with 1 Axes>"
      ]
     },
     "metadata": {
      "needs_background": "light"
     },
     "output_type": "display_data"
    }
   ],
   "source": [
    "# The dataset length value is very skewed\n",
    "df['length'].hist(bins=50)"
   ]
  },
  {
   "cell_type": "code",
   "execution_count": 21,
   "id": "21572251-b3ee-4627-9abc-1def2524ba2c",
   "metadata": {},
   "outputs": [
    {
     "data": {
      "image/png": "[encoded data removed]",
      "text/plain": [
       "<Figure size 432x288 with 1 Axes>"
      ]
     },
     "metadata": {
      "needs_background": "light"
     },
     "output_type": "display_data"
    }
   ],
   "source": [
    "import matplotlib.pyplot as plt\n",
    "%matplotlib inline\n",
    "# Plot with logarithmic scale, for both target classes\n",
    "# We see that the distirbutions are distinct for both classes\n",
    "plt.xscale('log')\n",
    "bins = 1.15**(np.arange(0,50))\n",
    "plt.hist(df[df['label']=='ham']['length'],bins=bins,alpha=0.8)\n",
    "plt.hist(df[df['label']=='spam']['length'],bins=bins,alpha=0.8)\n",
    "plt.legend(('ham','spam'))\n",
    "plt.show()"
   ]
  },
  {
   "cell_type": "markdown",
   "id": "3e9cd5b8-e839-4d50-b05d-61de6d3b584e",
   "metadata": {},
   "source": [
    "#### Predictor 2: Punctuation"
   ]
  },
  {
   "cell_type": "code",
   "execution_count": 24,
   "id": "740c615a-88cd-464e-850a-030c4d15b292",
   "metadata": {},
   "outputs": [
    {
     "data": {
      "text/plain": [
       "count    5572.000000\n",
       "mean        4.177495\n",
       "std         4.623919\n",
       "min         0.000000\n",
       "25%         2.000000\n",
       "50%         3.000000\n",
       "75%         6.000000\n",
       "max       133.000000\n",
       "Name: punct, dtype: float64"
      ]
     },
     "execution_count": 24,
     "metadata": {},
     "output_type": "execute_result"
    }
   ],
   "source": [
    "df['punct'].describe()"
   ]
  },
  {
   "cell_type": "code",
   "execution_count": 26,
   "id": "7a5201b1-9fc7-441e-b2b5-a86b1b6d7fe9",
   "metadata": {},
   "outputs": [
    {
     "data": {
      "text/plain": [
       "<AxesSubplot:>"
      ]
     },
     "execution_count": 26,
     "metadata": {},
     "output_type": "execute_result"
    },
    {
     "data": {
      "image/png": "[encoded data removed]",
      "text/plain": [
       "<Figure size 432x288 with 1 Axes>"
      ]
     },
     "metadata": {
      "needs_background": "light"
     },
     "output_type": "display_data"
    }
   ],
   "source": [
    "# The dataset punct value is also very skewed\n",
    "df['punct'].hist(bins=50)"
   ]
  },
  {
   "cell_type": "code",
   "execution_count": 36,
   "id": "262b8ae4-87ea-441b-bd10-b7d01f573d22",
   "metadata": {},
   "outputs": [
    {
     "data": {
      "image/png": "[encoded data removed]",
      "text/plain": [
       "<Figure size 432x288 with 1 Axes>"
      ]
     },
     "metadata": {
      "needs_background": "light"
     },
     "output_type": "display_data"
    }
   ],
   "source": [
    "import matplotlib.pyplot as plt\n",
    "%matplotlib inline\n",
    "# Plot with logarithmic scale, for both target classes\n",
    "# We see that the distirbutions are distinct for both classes, but they overlap considerably\n",
    "plt.xscale('log')\n",
    "bins = 1.5**(np.arange(0,10))\n",
    "plt.hist(df[df['label']=='ham']['punct'],bins=bins,alpha=0.8)\n",
    "plt.hist(df[df['label']=='spam']['punct'],bins=bins,alpha=0.8)\n",
    "plt.legend(('ham','spam'))\n",
    "plt.show()"
   ]
  },
  {
   "cell_type": "markdown",
   "id": "47af846e-473d-4899-a15c-4d0703de4674",
   "metadata": {},
   "source": [
    "### 2.2 Train/Test Split"
   ]
  },
  {
   "cell_type": "code",
   "execution_count": 42,
   "id": "3b715dbf-c5c4-42d8-830e-892fef49c154",
   "metadata": {},
   "outputs": [],
   "source": [
    "# Create Feature and Label sets: X, y (convention)\n",
    "# Features: either pick selected or drop the rest\n",
    "# X = df.drop(['label','message'], axis=1)\n",
    "X = df[['length','punct']]\n",
    "y = df['label']"
   ]
  },
  {
   "cell_type": "code",
   "execution_count": 43,
   "id": "dfdc604b-ded7-4a0c-acf6-2959cf4f9cc6",
   "metadata": {},
   "outputs": [],
   "source": [
    "from sklearn.model_selection import train_test_split"
   ]
  },
  {
   "cell_type": "code",
   "execution_count": 44,
   "id": "2e7b11b1-8b1a-4f96-80e2-7884fcc30dfb",
   "metadata": {},
   "outputs": [],
   "source": [
    "X_train, X_test, y_train, y_test = train_test_split(X, y, test_size=0.33, random_state=42)"
   ]
  },
  {
   "cell_type": "code",
   "execution_count": 45,
   "id": "eee3e3b7-d67f-4f66-8e6b-9e35ae94c901",
   "metadata": {},
   "outputs": [
    {
     "name": "stdout",
     "output_type": "stream",
     "text": [
      "Training Data Shape: (3733, 2)\n",
      "Testing Data Shape:  (1839, 2)\n"
     ]
    }
   ],
   "source": [
    "print('Training Data Shape:', X_train.shape)\n",
    "print('Testing Data Shape: ', X_test.shape)"
   ]
  },
  {
   "cell_type": "markdown",
   "id": "1ae73ac2-e127-4960-b750-a6643d909393",
   "metadata": {},
   "source": [
    "### 2.3 Define, Train & Evaluate Classification Models"
   ]
  },
  {
   "cell_type": "markdown",
   "id": "1e1d88b8-d9b0-4f99-bf2f-dd29bb4682ed",
   "metadata": {},
   "source": [
    "We are going to try 3 classification models:\n",
    "- Logistic Regression\n",
    "- Naive Bayes\n",
    "- Support Vector Machines (SVM)\n",
    "\n",
    "The syntax is always very similar:\n",
    "\n",
    "```python\n",
    "from sklearn.family import Model\n",
    "model = Model(params=...)\n",
    "model.fit(X_train, y_train)\n",
    "```"
   ]
  },
  {
   "cell_type": "markdown",
   "id": "d42c0348-c67c-4194-bcd5-f7b81522d833",
   "metadata": {},
   "source": [
    "#### Logistic Regression: Model Training"
   ]
  },
  {
   "cell_type": "code",
   "execution_count": 46,
   "id": "2c5963c4-c244-40ab-bf49-1cfa527a3a44",
   "metadata": {},
   "outputs": [
    {
     "data": {
      "text/plain": [
       "LogisticRegression()"
      ]
     },
     "execution_count": 46,
     "metadata": {},
     "output_type": "execute_result"
    }
   ],
   "source": [
    "from sklearn.linear_model import LogisticRegression\n",
    "\n",
    "# Chosen optimizer/solver: Limited-memory BFGS\n",
    "lr_model = LogisticRegression(solver='lbfgs')\n",
    "\n",
    "lr_model.fit(X_train, y_train)"
   ]
  },
  {
   "cell_type": "markdown",
   "id": "a8faf800-adcd-4a77-853c-76e3a468f0df",
   "metadata": {},
   "source": [
    "#### Logistic Regression: Model Metrics"
   ]
  },
  {
   "cell_type": "code",
   "execution_count": 52,
   "id": "d111277f-0f9d-4c62-ae06-4cd3b0490674",
   "metadata": {},
   "outputs": [
    {
     "name": "stdout",
     "output_type": "stream",
     "text": [
      "[[1547   46]\n",
      " [ 241    5]]\n"
     ]
    }
   ],
   "source": [
    "from sklearn import metrics\n",
    "\n",
    "# Create a prediction set\n",
    "predictions = lr_model.predict(X_test)\n",
    "\n",
    "# Print a confusion matrix\n",
    "# THE RESULTS ARE TERRIBLY BAD!\n",
    "print(metrics.confusion_matrix(y_test,predictions))"
   ]
  },
  {
   "cell_type": "code",
   "execution_count": 48,
   "id": "688d8aee-4b57-4346-b11d-c4a3ea42cbe9",
   "metadata": {},
   "outputs": [
    {
     "data": {
      "text/html": [
       "<div>\n",
       "<style scoped>\n",
       "    .dataframe tbody tr th:only-of-type {\n",
       "        vertical-align: middle;\n",
       "    }\n",
       "\n",
       "    .dataframe tbody tr th {\n",
       "        vertical-align: top;\n",
       "    }\n",
       "\n",
       "    .dataframe thead th {\n",
       "        text-align: right;\n",
       "    }\n",
       "</style>\n",
       "<table border=\"1\" class=\"dataframe\">\n",
       "  <thead>\n",
       "    <tr style=\"text-align: right;\">\n",
       "      <th></th>\n",
       "      <th>ham</th>\n",
       "      <th>spam</th>\n",
       "    </tr>\n",
       "  </thead>\n",
       "  <tbody>\n",
       "    <tr>\n",
       "      <th>ham</th>\n",
       "      <td>1547</td>\n",
       "      <td>46</td>\n",
       "    </tr>\n",
       "    <tr>\n",
       "      <th>spam</th>\n",
       "      <td>241</td>\n",
       "      <td>5</td>\n",
       "    </tr>\n",
       "  </tbody>\n",
       "</table>\n",
       "</div>"
      ],
      "text/plain": [
       "       ham  spam\n",
       "ham   1547    46\n",
       "spam   241     5"
      ]
     },
     "execution_count": 48,
     "metadata": {},
     "output_type": "execute_result"
    }
   ],
   "source": [
    "# You can make the confusion matrix less confusing by adding labels:\n",
    "df = pd.DataFrame(metrics.confusion_matrix(y_test,predictions), index=['ham','spam'], columns=['ham','spam'])\n",
    "df"
   ]
  },
  {
   "cell_type": "code",
   "execution_count": 49,
   "id": "65996765-a011-45fb-aaa2-64f30592d4bc",
   "metadata": {},
   "outputs": [
    {
     "name": "stdout",
     "output_type": "stream",
     "text": [
      "              precision    recall  f1-score   support\n",
      "\n",
      "         ham       0.87      0.97      0.92      1593\n",
      "        spam       0.10      0.02      0.03       246\n",
      "\n",
      "    accuracy                           0.84      1839\n",
      "   macro avg       0.48      0.50      0.47      1839\n",
      "weighted avg       0.76      0.84      0.80      1839\n",
      "\n"
     ]
    }
   ],
   "source": [
    "# Print a classification report\n",
    "print(metrics.classification_report(y_test,predictions))"
   ]
  },
  {
   "cell_type": "code",
   "execution_count": 53,
   "id": "8f091e12-c716-407e-ad5c-1f4c8ad5365d",
   "metadata": {},
   "outputs": [
    {
     "name": "stdout",
     "output_type": "stream",
     "text": [
      "0.843936922240348\n"
     ]
    }
   ],
   "source": [
    "# Print the overall accuracy\n",
    "# TERRIBLY BAD: Random guess is better in this case\n",
    "print(metrics.accuracy_score(y_test,predictions))"
   ]
  },
  {
   "cell_type": "markdown",
   "id": "8f259b34-70fa-4b56-ae58-70f69be134cc",
   "metadata": {},
   "source": [
    "#### Naive Bayes: Model Training"
   ]
  },
  {
   "cell_type": "code",
   "execution_count": 54,
   "id": "315cb78a-ac54-4640-bbad-39e992bb72ee",
   "metadata": {},
   "outputs": [
    {
     "data": {
      "text/plain": [
       "MultinomialNB()"
      ]
     },
     "execution_count": 54,
     "metadata": {},
     "output_type": "execute_result"
    }
   ],
   "source": [
    "from sklearn.naive_bayes import MultinomialNB\n",
    "\n",
    "nb_model = MultinomialNB()\n",
    "\n",
    "nb_model.fit(X_train, y_train)"
   ]
  },
  {
   "cell_type": "markdown",
   "id": "87702f33-cb57-4e7a-945e-a703b836682e",
   "metadata": {},
   "source": [
    "#### Naive Bayes: Model Metrics"
   ]
  },
  {
   "cell_type": "code",
   "execution_count": 59,
   "id": "8bdaa25d-256c-460a-b8a0-7b83f5435cdc",
   "metadata": {},
   "outputs": [
    {
     "name": "stdout",
     "output_type": "stream",
     "text": [
      "[[1583   10]\n",
      " [ 246    0]]\n"
     ]
    }
   ],
   "source": [
    "# STILL TERRIBLE! No spam SMS detected!\n",
    "predictions = nb_model.predict(X_test)\n",
    "print(metrics.confusion_matrix(y_test,predictions))"
   ]
  },
  {
   "cell_type": "code",
   "execution_count": 60,
   "id": "f366a785-868e-4709-a216-63635133c030",
   "metadata": {},
   "outputs": [
    {
     "name": "stdout",
     "output_type": "stream",
     "text": [
      "              precision    recall  f1-score   support\n",
      "\n",
      "         ham       0.87      0.99      0.93      1593\n",
      "        spam       0.00      0.00      0.00       246\n",
      "\n",
      "    accuracy                           0.86      1839\n",
      "   macro avg       0.43      0.50      0.46      1839\n",
      "weighted avg       0.75      0.86      0.80      1839\n",
      "\n"
     ]
    }
   ],
   "source": [
    "print(metrics.classification_report(y_test,predictions))"
   ]
  },
  {
   "cell_type": "code",
   "execution_count": 57,
   "id": "0c195507-d048-46ce-8a61-e7b664a8e652",
   "metadata": {},
   "outputs": [
    {
     "name": "stdout",
     "output_type": "stream",
     "text": [
      "0.8607939097335509\n"
     ]
    }
   ],
   "source": [
    "print(metrics.accuracy_score(y_test,predictions))"
   ]
  },
  {
   "cell_type": "markdown",
   "id": "e3455536-fd50-4466-88df-5b82f79088f0",
   "metadata": {},
   "source": [
    "#### Support Vector Machines: Training the Model"
   ]
  },
  {
   "cell_type": "code",
   "execution_count": 61,
   "id": "dab3c242-c7a0-49f8-8e33-6f6af7aca80b",
   "metadata": {},
   "outputs": [
    {
     "data": {
      "text/plain": [
       "SVC(gamma='auto')"
      ]
     },
     "execution_count": 61,
     "metadata": {},
     "output_type": "execute_result"
    }
   ],
   "source": [
    "from sklearn.svm import SVC\n",
    "svc_model = SVC(gamma='auto')\n",
    "svc_model.fit(X_train,y_train)"
   ]
  },
  {
   "cell_type": "markdown",
   "id": "98507521-9e0b-4d35-8997-7fddf662d1ea",
   "metadata": {},
   "source": [
    "#### Support Vector Machines: Model Metrics"
   ]
  },
  {
   "cell_type": "code",
   "execution_count": 69,
   "id": "d2a8f4f1-ca2f-48f2-9bae-c545e6a5d5e0",
   "metadata": {},
   "outputs": [
    {
     "name": "stdout",
     "output_type": "stream",
     "text": [
      "[[1515   78]\n",
      " [ 131  115]]\n"
     ]
    }
   ],
   "source": [
    "# This model seems to work a bit better than the others\n",
    "# But still slightly above random chance!\n",
    "predictions = svc_model.predict(X_test)\n",
    "print(metrics.confusion_matrix(y_test,predictions))"
   ]
  },
  {
   "cell_type": "code",
   "execution_count": 70,
   "id": "acc76399-665d-4f46-a3ee-1508810a9a2c",
   "metadata": {},
   "outputs": [
    {
     "name": "stdout",
     "output_type": "stream",
     "text": [
      "              precision    recall  f1-score   support\n",
      "\n",
      "         ham       0.92      0.95      0.94      1593\n",
      "        spam       0.60      0.47      0.52       246\n",
      "\n",
      "    accuracy                           0.89      1839\n",
      "   macro avg       0.76      0.71      0.73      1839\n",
      "weighted avg       0.88      0.89      0.88      1839\n",
      "\n"
     ]
    }
   ],
   "source": [
    "print(metrics.classification_report(y_test,predictions))"
   ]
  },
  {
   "cell_type": "code",
   "execution_count": 67,
   "id": "8e8653e1-eaaf-4a2d-a7a4-4bef6db85ab8",
   "metadata": {},
   "outputs": [
    {
     "name": "stdout",
     "output_type": "stream",
     "text": [
      "0.8863512778684067\n"
     ]
    }
   ],
   "source": [
    "print(metrics.accuracy_score(y_test,predictions))"
   ]
  },
  {
   "cell_type": "code",
   "execution_count": null,
   "id": "fe306ecd-5722-41fa-ab0e-0dc5e218887b",
   "metadata": {},
   "outputs": [],
   "source": []
  }
 ],
 "metadata": {
  "kernelspec": {
   "display_name": "Python 3 (ipykernel)",
   "language": "python",
   "name": "python3"
  },
  "language_info": {
   "codemirror_mode": {
    "name": "ipython",
    "version": 3
   },
   "file_extension": ".py",
   "mimetype": "text/x-python",
   "name": "python",
   "nbconvert_exporter": "python",
   "pygments_lexer": "ipython3",
   "version": "3.7.11"
  }
 },
 "nbformat": 4,
 "nbformat_minor": 5
}
