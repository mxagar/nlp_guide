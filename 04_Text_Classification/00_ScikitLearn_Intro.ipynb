{
 "cells": [
  {
   "cell_type": "markdown",
   "id": "d70928c1-672b-4089-8c1c-1a9a3fa5cac7",
   "metadata": {},
   "source": [
    "# Introduction to ML Concepts and Scikit-Learn"
   ]
  },
  {
   "cell_type": "markdown",
   "id": "66410b60-3200-4151-b2c4-0ac12111071f",
   "metadata": {},
   "source": [
    "This notebook is a brief introduction to Machine Learning and Sckit-Learn.\n",
    "\n",
    "Overview of contents:\n",
    "\n",
    "1. ML Concepts - A Refresher: Supervised vs. Unsupervised ML, Performace Metrics of Regression, Performance Metrics of Classification (Accuracy, Precision, Recall, F1, Confusion Matrix)"
   ]
  },
  {
   "cell_type": "markdown",
   "id": "eaefdddd-b056-473d-a7f4-f909d4a7667e",
   "metadata": {},
   "source": [
    "*Diclaimer: I made this notebook while following the Udemy course [NLP - Natural Language Processing with Python](https://www.udemy.com/course/nlp-natural-language-processing-with-python/) by José Marcial Portilla. The original course notebooks and materials were provided with a download link, I haven't found a repository to fork from.*"
   ]
  },
  {
   "cell_type": "markdown",
   "id": "a06d8e0a-51e5-458b-990b-0293a70e9b37",
   "metadata": {},
   "source": [
    "## 1. ML Concepts - A Refresher"
   ]
  },
  {
   "cell_type": "markdown",
   "id": "057062a0-5dbf-4d21-b2b3-5df77f27a255",
   "metadata": {},
   "source": [
    "### Types of Machine Learning\n",
    "\n",
    "Most of machine learning techniques are divided in these groups:\n",
    "\n",
    "- Supervised Learning: regression and classification with labelled data\n",
    "- Unsupervised Learning: clustering, anomaly detection and dimenstionality reduction with unlabelled data\n",
    "- Reinforcement Learning: learning through actions with the environment.\n",
    "\n",
    "### Supervised learning\n",
    "\n",
    "We have labelled or annotated samples, which are split\n",
    "- Training split: train model parameters.\n",
    "- Validation split: for adjusting hyperparameters (skipped in the course).\n",
    "- Test split: final performance metric; nothing tested anymore.\n",
    "\n",
    "Usually two types of problems are solved:\n",
    "- Classification: predict the class of a new sample using a model trained with labelled samples.\n",
    "- Regression: predict the continuous value of a sample using a model trained with labelled samples.\n",
    "\n",
    "### Unsupervised learning\n",
    "We don't have labelled data.\n",
    "Usually these kind of problems are solved:\n",
    "- Clustering: data points are grouped due to their similarity; since data is not labelled, the grouping can result to be artificial, if not correctly done.\n",
    "- Anomaly detection: we detect outliers in a dataset, eg, fraud detection; usually we don't have outliers as data, but we recognize them when they appear.\n",
    "- Dimensionality reduction: the number of features of each sample can be reduced either to compress or to better understand the dataset.\n",
    "\n",
    "Since we don't have labels (ground truth), we cannot evaluate the methods that easily."
   ]
  },
  {
   "cell_type": "markdown",
   "id": "07840e1f-25d9-42e0-9c82-552ef03332f2",
   "metadata": {},
   "source": [
    "### Performance evaulation for regression (continuous values)\n",
    "\n",
    "- Mean absolute error: `avg(abs(y-y_hat))`; large errors not punished\n",
    "- (Root) Mean squared error: `sqrt(avg((y-y_hat)^2))`"
   ]
  },
  {
   "cell_type": "markdown",
   "id": "7fc80992-059b-4ea0-8328-39f0ca98b02c",
   "metadata": {},
   "source": [
    "### Performance evaluation for classification (categorical values)\n",
    "\n",
    "**Metrics**\n",
    "- Accuracy = correct predictions / total predictions `= (TP + TN) / (TP + TN + FP + FN)`\n",
    "    - Accuracy is good for balanced datasets = datasets that contain a similar amount of samples for each class\n",
    "    - Why? because if we have a dataset with 99% dogs, the accuracy is surely going to be good by guessing a dog!\n",
    "    - The reverse of the accuracy is the Error Rate = Missclassification Rate: `(FP + FN) / (TP + TN + FP + FN)`\n",
    "\n",
    "- Recall = correct T predictions / all real T samples `= TP / (TP + FN)`\n",
    "    - The ability of a model to find all relevant classesfrom all real T cases, how many are predicted correctly as T?\n",
    "\n",
    "- Precission = correct T predictions / all predicted T samples `= TP / (TP + FP)`\n",
    "    - The ability of a model to identify only the relevant data points from all predicted T cases, how many are correctly/really T?\n",
    "    - We have often a trade-off between Precission & Recall\n",
    "\n",
    "- F1-core `= 2 * (precission * recall) / (precission + recall)`\n",
    "    - It combines both precission & recall, it is the harmonic mean of both\n",
    "    - The harmonic mean is typically used when the average of rates is desired\n",
    "    - It punishes bad rates/values at the extremes, leading to a bad F1-score\n",
    "\n",
    "**Confusion matrix (Type I & II errors)**\n",
    "\n",
    "- Real/Actual (T or F) vs Prediction (T or F)\n",
    "- Quadrants:\n",
    "    - TP\n",
    "    - FN - type II error: these are the really severe errors we'd like to avoid!\n",
    "    - FP - type I error\n",
    "    - TN\n",
    "- From this matrix, we can compute many metrics, among them the ones defined: Accuracy, Precission, Recall, F1-score\n",
    "\n",
    "[Confusion Matrix from the Wikipedia](https://en.wikipedia.org/wiki/Confusion_matrix)\n",
    "\n",
    "![Confusion Matrix (Wikipedia)](../pics/confusion_matrix.png)\n",
    "\n",
    "For each example, we need to pick the most appropriate metric and choose the most appropriate threshold for considering the model performs correctly enough. It's not the same predicting\n",
    "- diseases, severe or light\n",
    "- defects\n",
    "- ..."
   ]
  },
  {
   "cell_type": "code",
   "execution_count": null,
   "id": "e9f46c5e-7485-4707-aecd-731d2a55bd03",
   "metadata": {},
   "outputs": [],
   "source": []
  }
 ],
 "metadata": {
  "kernelspec": {
   "display_name": "Python 3 (ipykernel)",
   "language": "python",
   "name": "python3"
  },
  "language_info": {
   "codemirror_mode": {
    "name": "ipython",
    "version": 3
   },
   "file_extension": ".py",
   "mimetype": "text/x-python",
   "name": "python",
   "nbconvert_exporter": "python",
   "pygments_lexer": "ipython3",
   "version": "3.7.11"
  }
 },
 "nbformat": 4,
 "nbformat_minor": 5
}
