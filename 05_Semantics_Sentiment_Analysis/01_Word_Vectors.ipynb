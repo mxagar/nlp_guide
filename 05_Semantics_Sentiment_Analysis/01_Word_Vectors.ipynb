{
 "cells": [
  {
   "cell_type": "markdown",
   "id": "5bdea501-bd1e-4a09-b4a7-10eda30c5fba",
   "metadata": {},
   "source": [
    "# Semantics and Word Vectors"
   ]
  },
  {
   "cell_type": "markdown",
   "id": "172dfc10-c1df-4927-8861-317cc3949d10",
   "metadata": {},
   "source": [
    "We are going to use **embedded word vectors** already available in Spacy; but for that, we need to use medium or large language models, which need to be installed explicitly:\n",
    "\n",
    "```bash\n",
    "python -m spacy download en_core_web_md # spacy.load('en_core_news_md')\n",
    "python -m spacy download en_core_web_lg # spacy.load('en_core_news_lg')\n",
    "```\n",
    "\n",
    "When we load any of these models, each token has its vector representation. The concept of representing words with vectors was popularized by Mikolov et al. in 2013 (Google) -- see `../literature/Mikolov_Word2Vec_2013.pdf`.\n",
    "\n",
    "\n",
    "\n"
   ]
  },
  {
   "cell_type": "code",
   "execution_count": null,
   "id": "04dcc028-3775-45ce-ada1-899bda1863e4",
   "metadata": {},
   "outputs": [],
   "source": []
  }
 ],
 "metadata": {
  "kernelspec": {
   "display_name": "Python 3 (ipykernel)",
   "language": "python",
   "name": "python3"
  },
  "language_info": {
   "codemirror_mode": {
    "name": "ipython",
    "version": 3
   },
   "file_extension": ".py",
   "mimetype": "text/x-python",
   "name": "python",
   "nbconvert_exporter": "python",
   "pygments_lexer": "ipython3",
   "version": "3.7.11"
  }
 },
 "nbformat": 4,
 "nbformat_minor": 5
}
