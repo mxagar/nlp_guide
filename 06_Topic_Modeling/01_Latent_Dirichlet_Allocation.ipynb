{
 "cells": [
  {
   "cell_type": "markdown",
   "id": "dfc55aac-4cf6-41f3-a4e4-f6397d3166bc",
   "metadata": {},
   "source": [
    "# Topic Modeling: Latent Dirichlet Allocation (LDA)"
   ]
  },
  {
   "cell_type": "code",
   "execution_count": null,
   "id": "759de0bd-ae0c-4fa9-b021-c3c0ce31f7ff",
   "metadata": {},
   "outputs": [],
   "source": []
  }
 ],
 "metadata": {
  "kernelspec": {
   "display_name": "Python 3 (ipykernel)",
   "language": "python",
   "name": "python3"
  },
  "language_info": {
   "codemirror_mode": {
    "name": "ipython",
    "version": 3
   },
   "file_extension": ".py",
   "mimetype": "text/x-python",
   "name": "python",
   "nbconvert_exporter": "python",
   "pygments_lexer": "ipython3",
   "version": "3.7.11"
  }
 },
 "nbformat": 4,
 "nbformat_minor": 5
}
