{
 "cells": [
  {
   "cell_type": "markdown",
   "id": "5ed8a84a-428e-4d45-833b-4c8063a7e99b",
   "metadata": {},
   "source": [
    "# Topic Modeling: Non-Negative Matrix Factorization (NNMF)"
   ]
  },
  {
   "cell_type": "code",
   "execution_count": null,
   "id": "4824ea72-882d-4a02-921b-35b66332a060",
   "metadata": {},
   "outputs": [],
   "source": []
  }
 ],
 "metadata": {
  "kernelspec": {
   "display_name": "Python 3 (ipykernel)",
   "language": "python",
   "name": "python3"
  },
  "language_info": {
   "codemirror_mode": {
    "name": "ipython",
    "version": 3
   },
   "file_extension": ".py",
   "mimetype": "text/x-python",
   "name": "python",
   "nbconvert_exporter": "python",
   "pygments_lexer": "ipython3",
   "version": "3.7.11"
  }
 },
 "nbformat": 4,
 "nbformat_minor": 5
}
