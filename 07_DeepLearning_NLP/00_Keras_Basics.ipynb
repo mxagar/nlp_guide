{
 "cells": [
  {
   "cell_type": "markdown",
   "id": "c06599e4-edcb-4652-a6c4-1263c5234cad",
   "metadata": {},
   "source": [
    "# Keras Basics"
   ]
  },
  {
   "cell_type": "markdown",
   "id": "be988adf-32df-4373-8f6c-445b5c5b2f76",
   "metadata": {},
   "source": [
    "The notebook belongs to the first part of the section, which focuses on basic Deep Learning concepts. I have notes on these concepts already in previous documents:\n",
    "\n",
    "- `~/Dropbox/Documentation/howtos/keras_tensorflow_guide.txt`\n",
    "- `~/git_repositories/data_science_python_tools/19_NeuralNetworks_Keras`\n",
    "\n",
    "The latter is a section in the repository [data_science_python_tools](https://github.com/mxagar/data_science_python_tools). It contains specific topics relevant to NLP:\n",
    "\n",
    "- Keras basics\n",
    "- RNNs\n",
    "- NLP\n",
    "\n",
    "In the following, the classification problem of the [Iris dataset](https://archive.ics.uci.edu/ml/datasets/iris) is solved using Keras. The notebook is quite uninteresting, unless you'd like to know how to perform a vanilla classification with tabular data using Keras.\n",
    "\n",
    "Overview of contents:\n",
    "1. Load & Prepare the Dataset\n",
    "    - 1.1 Get the Dataset\n",
    "    - 1.2 Train/Test Split\n",
    "    - 1.3 Scale\n",
    "2. Model Definition and Training\n",
    "3. Evaluation & Inference\n",
    "4. Save and Load Models"
   ]
  },
  {
   "cell_type": "markdown",
   "id": "cb9bb494-4ce6-4484-ba06-59f3a67ebd65",
   "metadata": {},
   "source": [
    "*Diclaimer: I made this notebook while following the Udemy course [NLP - Natural Language Processing with Python](https://www.udemy.com/course/nlp-natural-language-processing-with-python/) by José Marcial Portilla. The original course notebooks and materials were provided with a download link, I haven't found a repository to fork from.*"
   ]
  },
  {
   "cell_type": "markdown",
   "id": "b7f7c646-fd04-49f9-9dd1-54fa67b6e830",
   "metadata": {},
   "source": [
    "## 1. Load & Prepare the Dataset"
   ]
  },
  {
   "cell_type": "markdown",
   "id": "d4adca3b-28dd-420d-bd49-1002ca3a2b17",
   "metadata": {},
   "source": [
    "### 1.1 Get the Dataset"
   ]
  },
  {
   "cell_type": "code",
   "execution_count": 1,
   "id": "f3238173-92c2-4890-9a65-a6b7fc1c1c24",
   "metadata": {},
   "outputs": [],
   "source": [
    "import numpy as np"
   ]
  },
  {
   "cell_type": "code",
   "execution_count": 2,
   "id": "be8a4e93-c836-4731-980a-ac91c35f78bb",
   "metadata": {},
   "outputs": [],
   "source": [
    "from sklearn.datasets import load_iris"
   ]
  },
  {
   "cell_type": "code",
   "execution_count": 3,
   "id": "2cfff45f-864f-4eba-b3a8-1b2969f3b757",
   "metadata": {},
   "outputs": [],
   "source": [
    "iris = load_iris()"
   ]
  },
  {
   "cell_type": "code",
   "execution_count": 4,
   "id": "c44e312d-c961-4fde-b410-81ab67bb545b",
   "metadata": {},
   "outputs": [
    {
     "name": "stdout",
     "output_type": "stream",
     "text": [
      ".. _iris_dataset:\n",
      "\n",
      "Iris plants dataset\n",
      "--------------------\n",
      "\n",
      "**Data Set Characteristics:**\n",
      "\n",
      "    :Number of Instances: 150 (50 in each of three classes)\n",
      "    :Number of Attributes: 4 numeric, predictive attributes and the class\n",
      "    :Attribute Information:\n",
      "        - sepal length in cm\n",
      "        - sepal width in cm\n",
      "        - petal length in cm\n",
      "        - petal width in cm\n",
      "        - class:\n",
      "                - Iris-Setosa\n",
      "                - Iris-Versicolour\n",
      "                - Iris-Virginica\n",
      "                \n",
      "    :Summary Statistics:\n",
      "\n",
      "    ============== ==== ==== ======= ===== ====================\n",
      "                    Min  Max   Mean    SD   Class Correlation\n",
      "    ============== ==== ==== ======= ===== ====================\n",
      "    sepal length:   4.3  7.9   5.84   0.83    0.7826\n",
      "    sepal width:    2.0  4.4   3.05   0.43   -0.4194\n",
      "    petal length:   1.0  6.9   3.76   1.76    0.9490  (high!)\n",
      "    petal width:    0.1  2.5   1.20   0.76    0.9565  (high!)\n",
      "    ============== ==== ==== ======= ===== ====================\n",
      "\n",
      "    :Missing Attribute Values: None\n",
      "    :Class Distribution: 33.3% for each of 3 classes.\n",
      "    :Creator: R.A. Fisher\n",
      "    :Donor: Michael Marshall (MARSHALL%PLU@io.arc.nasa.gov)\n",
      "    :Date: July, 1988\n",
      "\n",
      "The famous Iris database, first used by Sir R.A. Fisher. The dataset is taken\n",
      "from Fisher's paper. Note that it's the same as in R, but not as in the UCI\n",
      "Machine Learning Repository, which has two wrong data points.\n",
      "\n",
      "This is perhaps the best known database to be found in the\n",
      "pattern recognition literature.  Fisher's paper is a classic in the field and\n",
      "is referenced frequently to this day.  (See Duda & Hart, for example.)  The\n",
      "data set contains 3 classes of 50 instances each, where each class refers to a\n",
      "type of iris plant.  One class is linearly separable from the other 2; the\n",
      "latter are NOT linearly separable from each other.\n",
      "\n",
      ".. topic:: References\n",
      "\n",
      "   - Fisher, R.A. \"The use of multiple measurements in taxonomic problems\"\n",
      "     Annual Eugenics, 7, Part II, 179-188 (1936); also in \"Contributions to\n",
      "     Mathematical Statistics\" (John Wiley, NY, 1950).\n",
      "   - Duda, R.O., & Hart, P.E. (1973) Pattern Classification and Scene Analysis.\n",
      "     (Q327.D83) John Wiley & Sons.  ISBN 0-471-22361-1.  See page 218.\n",
      "   - Dasarathy, B.V. (1980) \"Nosing Around the Neighborhood: A New System\n",
      "     Structure and Classification Rule for Recognition in Partially Exposed\n",
      "     Environments\".  IEEE Transactions on Pattern Analysis and Machine\n",
      "     Intelligence, Vol. PAMI-2, No. 1, 67-71.\n",
      "   - Gates, G.W. (1972) \"The Reduced Nearest Neighbor Rule\".  IEEE Transactions\n",
      "     on Information Theory, May 1972, 431-433.\n",
      "   - See also: 1988 MLC Proceedings, 54-64.  Cheeseman et al\"s AUTOCLASS II\n",
      "     conceptual clustering system finds 3 classes in the data.\n",
      "   - Many, many more ...\n"
     ]
    }
   ],
   "source": [
    "print(iris.DESCR)"
   ]
  },
  {
   "cell_type": "code",
   "execution_count": 5,
   "id": "4cbda9fa-cda5-44db-9aa0-c6471b25598c",
   "metadata": {},
   "outputs": [],
   "source": [
    "X = iris.data"
   ]
  },
  {
   "cell_type": "code",
   "execution_count": 6,
   "id": "4c6667d7-367a-480a-8579-0e686108c153",
   "metadata": {},
   "outputs": [
    {
     "data": {
      "text/plain": [
       "(150, 4)"
      ]
     },
     "execution_count": 6,
     "metadata": {},
     "output_type": "execute_result"
    }
   ],
   "source": [
    "X.shape"
   ]
  },
  {
   "cell_type": "code",
   "execution_count": 7,
   "id": "69618776-6603-4b96-b898-0de9f041f35d",
   "metadata": {},
   "outputs": [],
   "source": [
    "y = iris.target"
   ]
  },
  {
   "cell_type": "code",
   "execution_count": 8,
   "id": "d9f3be27-4e16-45dd-b01b-f0bcbad10057",
   "metadata": {},
   "outputs": [
    {
     "data": {
      "text/plain": [
       "(150,)"
      ]
     },
     "execution_count": 8,
     "metadata": {},
     "output_type": "execute_result"
    }
   ],
   "source": [
    "y.shape"
   ]
  },
  {
   "cell_type": "code",
   "execution_count": 9,
   "id": "20132898-4899-4c01-b1ac-e0433d172cef",
   "metadata": {},
   "outputs": [
    {
     "name": "stderr",
     "output_type": "stream",
     "text": [
      "Using TensorFlow backend.\n"
     ]
    }
   ],
   "source": [
    "# One-Hot Encoding\n",
    "from keras.utils import to_categorical"
   ]
  },
  {
   "cell_type": "code",
   "execution_count": 10,
   "id": "23ce59c9-3c9d-4811-a85c-81c3117e850a",
   "metadata": {},
   "outputs": [],
   "source": [
    "y = to_categorical(y)"
   ]
  },
  {
   "cell_type": "code",
   "execution_count": 19,
   "id": "238794f8-d81d-4028-8574-5cabe1213fe9",
   "metadata": {},
   "outputs": [
    {
     "data": {
      "text/plain": [
       "(150, 3)"
      ]
     },
     "execution_count": 19,
     "metadata": {},
     "output_type": "execute_result"
    }
   ],
   "source": [
    "y.shape"
   ]
  },
  {
   "cell_type": "markdown",
   "id": "d654152c-f528-40f0-85bf-80b2c733fd53",
   "metadata": {},
   "source": [
    "### 1.2 Train/Test Split"
   ]
  },
  {
   "cell_type": "code",
   "execution_count": 12,
   "id": "44977741-61f5-467a-9969-dc0bdeba5bca",
   "metadata": {},
   "outputs": [],
   "source": [
    "from sklearn.model_selection import train_test_split"
   ]
  },
  {
   "cell_type": "code",
   "execution_count": 20,
   "id": "a1fc907b-957d-41ca-84e4-e2f2a8def40a",
   "metadata": {},
   "outputs": [],
   "source": [
    "X_train, X_test, y_train, y_test = train_test_split(X, y, test_size=0.33, random_state=42)"
   ]
  },
  {
   "cell_type": "markdown",
   "id": "4a6b67d6-b34c-46b3-b94f-267bf3512204",
   "metadata": {},
   "source": [
    "### 1.3 Scale"
   ]
  },
  {
   "cell_type": "code",
   "execution_count": 14,
   "id": "d9447055-bd59-43aa-8e78-ae7639555a3e",
   "metadata": {},
   "outputs": [],
   "source": [
    "from sklearn.preprocessing import MinMaxScaler"
   ]
  },
  {
   "cell_type": "code",
   "execution_count": 15,
   "id": "9c772614-84d8-403b-824d-e02dddf1f801",
   "metadata": {},
   "outputs": [],
   "source": [
    "scaler_object = MinMaxScaler()"
   ]
  },
  {
   "cell_type": "code",
   "execution_count": 16,
   "id": "e65f411d-dbc6-4342-93ba-3158824bdd73",
   "metadata": {},
   "outputs": [
    {
     "data": {
      "text/plain": [
       "MinMaxScaler()"
      ]
     },
     "execution_count": 16,
     "metadata": {},
     "output_type": "execute_result"
    }
   ],
   "source": [
    "scaler_object.fit(X_train)"
   ]
  },
  {
   "cell_type": "code",
   "execution_count": 17,
   "id": "3072b9b9-e849-48db-a89e-553b67f8a20b",
   "metadata": {},
   "outputs": [],
   "source": [
    "scaled_X_train = scaler_object.transform(X_train)"
   ]
  },
  {
   "cell_type": "code",
   "execution_count": 18,
   "id": "2057e5be-684a-4f52-9c4a-1942eb6bf6d8",
   "metadata": {},
   "outputs": [],
   "source": [
    "scaled_X_test = scaler_object.transform(X_test)"
   ]
  },
  {
   "cell_type": "markdown",
   "id": "681d6862-0268-44c4-85e0-83ec09479fab",
   "metadata": {},
   "source": [
    "## 2. Model Definition and Training"
   ]
  },
  {
   "cell_type": "code",
   "execution_count": 21,
   "id": "275884a7-27e9-40c4-99bb-ee9f50e9b829",
   "metadata": {},
   "outputs": [],
   "source": [
    "from keras.models import Sequential\n",
    "from keras.layers import Dense"
   ]
  },
  {
   "cell_type": "code",
   "execution_count": 22,
   "id": "203d2b9b-c840-4bd7-9fc0-fd7645ccabaa",
   "metadata": {},
   "outputs": [
    {
     "name": "stderr",
     "output_type": "stream",
     "text": [
      "2022-04-25 14:38:04.360308: I tensorflow/core/platform/cpu_feature_guard.cc:145] This TensorFlow binary is optimized with Intel(R) MKL-DNN to use the following CPU instructions in performance critical operations:  SSE4.1 SSE4.2\n",
      "To enable them in non-MKL-DNN operations, rebuild TensorFlow with the appropriate compiler flags.\n",
      "2022-04-25 14:38:04.362093: I tensorflow/core/common_runtime/process_util.cc:115] Creating new thread pool with default inter op setting: 8. Tune using inter_op_parallelism_threads for best performance.\n"
     ]
    }
   ],
   "source": [
    "model = Sequential()\n",
    "model.add(Dense(8, input_dim=4, activation='relu'))\n",
    "model.add(Dense(8, input_dim=4, activation='relu'))\n",
    "model.add(Dense(3, activation='softmax'))\n",
    "model.compile(loss='categorical_crossentropy', optimizer='adam', metrics=['accuracy'])"
   ]
  },
  {
   "cell_type": "code",
   "execution_count": 23,
   "id": "f0f31c43-e2f4-4112-a4da-a0766f07d406",
   "metadata": {},
   "outputs": [
    {
     "name": "stdout",
     "output_type": "stream",
     "text": [
      "Model: \"sequential_1\"\n",
      "_________________________________________________________________\n",
      "Layer (type)                 Output Shape              Param #   \n",
      "=================================================================\n",
      "dense_1 (Dense)              (None, 8)                 40        \n",
      "_________________________________________________________________\n",
      "dense_2 (Dense)              (None, 8)                 72        \n",
      "_________________________________________________________________\n",
      "dense_3 (Dense)              (None, 3)                 27        \n",
      "=================================================================\n",
      "Total params: 139\n",
      "Trainable params: 139\n",
      "Non-trainable params: 0\n",
      "_________________________________________________________________\n"
     ]
    }
   ],
   "source": [
    "model.summary()"
   ]
  },
  {
   "cell_type": "code",
   "execution_count": 26,
   "id": "48617846-6dc6-4258-ab1d-8d0dbd50051c",
   "metadata": {},
   "outputs": [
    {
     "name": "stdout",
     "output_type": "stream",
     "text": [
      "Epoch 1/150\n",
      "100/100 [==============================] - 0s 321us/step - loss: 0.2077 - accuracy: 0.9500\n",
      "Epoch 2/150\n",
      "100/100 [==============================] - 0s 123us/step - loss: 0.2061 - accuracy: 0.9500\n",
      "Epoch 3/150\n",
      "100/100 [==============================] - 0s 109us/step - loss: 0.2045 - accuracy: 0.9600\n",
      "Epoch 4/150\n",
      "100/100 [==============================] - 0s 80us/step - loss: 0.2041 - accuracy: 0.9500\n",
      "Epoch 5/150\n",
      "100/100 [==============================] - 0s 72us/step - loss: 0.2057 - accuracy: 0.9400\n",
      "Epoch 6/150\n",
      "100/100 [==============================] - 0s 86us/step - loss: 0.2083 - accuracy: 0.9300\n",
      "Epoch 7/150\n",
      "100/100 [==============================] - 0s 68us/step - loss: 0.2069 - accuracy: 0.9300\n",
      "Epoch 8/150\n",
      "100/100 [==============================] - 0s 73us/step - loss: 0.2044 - accuracy: 0.9300\n",
      "Epoch 9/150\n",
      "100/100 [==============================] - 0s 60us/step - loss: 0.2030 - accuracy: 0.9300\n",
      "Epoch 10/150\n",
      "100/100 [==============================] - 0s 77us/step - loss: 0.2016 - accuracy: 0.9500\n",
      "Epoch 11/150\n",
      "100/100 [==============================] - 0s 61us/step - loss: 0.1984 - accuracy: 0.9600\n",
      "Epoch 12/150\n",
      "100/100 [==============================] - 0s 64us/step - loss: 0.1969 - accuracy: 0.9600\n",
      "Epoch 13/150\n",
      "100/100 [==============================] - 0s 69us/step - loss: 0.1965 - accuracy: 0.9500\n",
      "Epoch 14/150\n",
      "100/100 [==============================] - 0s 65us/step - loss: 0.1957 - accuracy: 0.9600\n",
      "Epoch 15/150\n",
      "100/100 [==============================] - 0s 65us/step - loss: 0.1950 - accuracy: 0.9600\n",
      "Epoch 16/150\n",
      "100/100 [==============================] - 0s 74us/step - loss: 0.1945 - accuracy: 0.9500\n",
      "Epoch 17/150\n",
      "100/100 [==============================] - 0s 65us/step - loss: 0.1938 - accuracy: 0.9500\n",
      "Epoch 18/150\n",
      "100/100 [==============================] - 0s 97us/step - loss: 0.1921 - accuracy: 0.9600\n",
      "Epoch 19/150\n",
      "100/100 [==============================] - 0s 89us/step - loss: 0.1909 - accuracy: 0.9600\n",
      "Epoch 20/150\n",
      "100/100 [==============================] - 0s 64us/step - loss: 0.1899 - accuracy: 0.9600\n",
      "Epoch 21/150\n",
      "100/100 [==============================] - 0s 69us/step - loss: 0.1885 - accuracy: 0.9600\n",
      "Epoch 22/150\n",
      "100/100 [==============================] - 0s 62us/step - loss: 0.1883 - accuracy: 0.9600\n",
      "Epoch 23/150\n",
      "100/100 [==============================] - 0s 62us/step - loss: 0.1874 - accuracy: 0.9600\n",
      "Epoch 24/150\n",
      "100/100 [==============================] - 0s 68us/step - loss: 0.1862 - accuracy: 0.9600\n",
      "Epoch 25/150\n",
      "100/100 [==============================] - 0s 63us/step - loss: 0.1860 - accuracy: 0.9600\n",
      "Epoch 26/150\n",
      "100/100 [==============================] - 0s 73us/step - loss: 0.1846 - accuracy: 0.9600\n",
      "Epoch 27/150\n",
      "100/100 [==============================] - 0s 62us/step - loss: 0.1839 - accuracy: 0.9600\n",
      "Epoch 28/150\n",
      "100/100 [==============================] - 0s 74us/step - loss: 0.1829 - accuracy: 0.9600\n",
      "Epoch 29/150\n",
      "100/100 [==============================] - 0s 61us/step - loss: 0.1823 - accuracy: 0.9500\n",
      "Epoch 30/150\n",
      "100/100 [==============================] - 0s 71us/step - loss: 0.1824 - accuracy: 0.9500\n",
      "Epoch 31/150\n",
      "100/100 [==============================] - 0s 71us/step - loss: 0.1821 - accuracy: 0.9500\n",
      "Epoch 32/150\n",
      "100/100 [==============================] - 0s 63us/step - loss: 0.1810 - accuracy: 0.9500\n",
      "Epoch 33/150\n",
      "100/100 [==============================] - 0s 65us/step - loss: 0.1796 - accuracy: 0.9500\n",
      "Epoch 34/150\n",
      "100/100 [==============================] - 0s 62us/step - loss: 0.1786 - accuracy: 0.9600\n",
      "Epoch 35/150\n",
      "100/100 [==============================] - 0s 75us/step - loss: 0.1774 - accuracy: 0.9600\n",
      "Epoch 36/150\n",
      "100/100 [==============================] - 0s 59us/step - loss: 0.1767 - accuracy: 0.9600\n",
      "Epoch 37/150\n",
      "100/100 [==============================] - 0s 74us/step - loss: 0.1759 - accuracy: 0.9600\n",
      "Epoch 38/150\n",
      "100/100 [==============================] - 0s 62us/step - loss: 0.1761 - accuracy: 0.9500\n",
      "Epoch 39/150\n",
      "100/100 [==============================] - 0s 62us/step - loss: 0.1754 - accuracy: 0.9500\n",
      "Epoch 40/150\n",
      "100/100 [==============================] - 0s 72us/step - loss: 0.1744 - accuracy: 0.9500\n",
      "Epoch 41/150\n",
      "100/100 [==============================] - 0s 61us/step - loss: 0.1726 - accuracy: 0.9600\n",
      "Epoch 42/150\n",
      "100/100 [==============================] - 0s 72us/step - loss: 0.1717 - accuracy: 0.9600\n",
      "Epoch 43/150\n",
      "100/100 [==============================] - 0s 65us/step - loss: 0.1738 - accuracy: 0.9600\n",
      "Epoch 44/150\n",
      "100/100 [==============================] - 0s 66us/step - loss: 0.1725 - accuracy: 0.9600\n",
      "Epoch 45/150\n",
      "100/100 [==============================] - 0s 64us/step - loss: 0.1703 - accuracy: 0.9600\n",
      "Epoch 46/150\n",
      "100/100 [==============================] - 0s 60us/step - loss: 0.1686 - accuracy: 0.9600\n",
      "Epoch 47/150\n",
      "100/100 [==============================] - 0s 76us/step - loss: 0.1691 - accuracy: 0.9600\n",
      "Epoch 48/150\n",
      "100/100 [==============================] - 0s 61us/step - loss: 0.1695 - accuracy: 0.9500\n",
      "Epoch 49/150\n",
      "100/100 [==============================] - 0s 58us/step - loss: 0.1698 - accuracy: 0.9500\n",
      "Epoch 50/150\n",
      "100/100 [==============================] - 0s 64us/step - loss: 0.1685 - accuracy: 0.9500\n",
      "Epoch 51/150\n",
      "100/100 [==============================] - 0s 66us/step - loss: 0.1659 - accuracy: 0.9500\n",
      "Epoch 52/150\n",
      "100/100 [==============================] - 0s 74us/step - loss: 0.1648 - accuracy: 0.9600\n",
      "Epoch 53/150\n",
      "100/100 [==============================] - 0s 60us/step - loss: 0.1672 - accuracy: 0.9600\n",
      "Epoch 54/150\n",
      "100/100 [==============================] - 0s 67us/step - loss: 0.1656 - accuracy: 0.9600\n",
      "Epoch 55/150\n",
      "100/100 [==============================] - 0s 63us/step - loss: 0.1636 - accuracy: 0.9600\n",
      "Epoch 56/150\n",
      "100/100 [==============================] - 0s 75us/step - loss: 0.1629 - accuracy: 0.9600\n",
      "Epoch 57/150\n",
      "100/100 [==============================] - 0s 59us/step - loss: 0.1618 - accuracy: 0.9600\n",
      "Epoch 58/150\n",
      "100/100 [==============================] - 0s 80us/step - loss: 0.1607 - accuracy: 0.9600\n",
      "Epoch 59/150\n",
      "100/100 [==============================] - 0s 70us/step - loss: 0.1611 - accuracy: 0.9500\n",
      "Epoch 60/150\n",
      "100/100 [==============================] - 0s 57us/step - loss: 0.1616 - accuracy: 0.9500\n",
      "Epoch 61/150\n",
      "100/100 [==============================] - 0s 67us/step - loss: 0.1613 - accuracy: 0.9500\n",
      "Epoch 62/150\n",
      "100/100 [==============================] - 0s 71us/step - loss: 0.1608 - accuracy: 0.9500\n",
      "Epoch 63/150\n",
      "100/100 [==============================] - 0s 69us/step - loss: 0.1595 - accuracy: 0.9500\n",
      "Epoch 64/150\n",
      "100/100 [==============================] - 0s 60us/step - loss: 0.1589 - accuracy: 0.9500\n",
      "Epoch 65/150\n",
      "100/100 [==============================] - 0s 66us/step - loss: 0.1582 - accuracy: 0.9500\n",
      "Epoch 66/150\n",
      "100/100 [==============================] - 0s 68us/step - loss: 0.1574 - accuracy: 0.9500\n",
      "Epoch 67/150\n",
      "100/100 [==============================] - 0s 73us/step - loss: 0.1573 - accuracy: 0.9600\n",
      "Epoch 68/150\n",
      "100/100 [==============================] - 0s 61us/step - loss: 0.1551 - accuracy: 0.9600\n",
      "Epoch 69/150\n",
      "100/100 [==============================] - 0s 85us/step - loss: 0.1545 - accuracy: 0.9600\n",
      "Epoch 70/150\n",
      "100/100 [==============================] - 0s 56us/step - loss: 0.1548 - accuracy: 0.9500\n",
      "Epoch 71/150\n",
      "100/100 [==============================] - 0s 73us/step - loss: 0.1548 - accuracy: 0.9500\n",
      "Epoch 72/150\n",
      "100/100 [==============================] - 0s 60us/step - loss: 0.1549 - accuracy: 0.9500\n",
      "Epoch 73/150\n",
      "100/100 [==============================] - 0s 67us/step - loss: 0.1522 - accuracy: 0.9600\n",
      "Epoch 74/150\n",
      "100/100 [==============================] - 0s 63us/step - loss: 0.1513 - accuracy: 0.9600\n",
      "Epoch 75/150\n",
      "100/100 [==============================] - 0s 63us/step - loss: 0.1506 - accuracy: 0.9600\n",
      "Epoch 76/150\n",
      "100/100 [==============================] - 0s 69us/step - loss: 0.1501 - accuracy: 0.9600\n",
      "Epoch 77/150\n",
      "100/100 [==============================] - 0s 58us/step - loss: 0.1494 - accuracy: 0.9600\n",
      "Epoch 78/150\n",
      "100/100 [==============================] - 0s 69us/step - loss: 0.1491 - accuracy: 0.9600\n",
      "Epoch 79/150\n",
      "100/100 [==============================] - 0s 64us/step - loss: 0.1485 - accuracy: 0.9600\n",
      "Epoch 80/150\n",
      "100/100 [==============================] - 0s 67us/step - loss: 0.1479 - accuracy: 0.9600\n",
      "Epoch 81/150\n",
      "100/100 [==============================] - 0s 59us/step - loss: 0.1470 - accuracy: 0.9600\n",
      "Epoch 82/150\n",
      "100/100 [==============================] - 0s 76us/step - loss: 0.1473 - accuracy: 0.9600\n",
      "Epoch 83/150\n",
      "100/100 [==============================] - 0s 72us/step - loss: 0.1480 - accuracy: 0.9500\n",
      "Epoch 84/150\n",
      "100/100 [==============================] - 0s 59us/step - loss: 0.1467 - accuracy: 0.9500\n",
      "Epoch 85/150\n",
      "100/100 [==============================] - 0s 71us/step - loss: 0.1455 - accuracy: 0.9600\n",
      "Epoch 86/150\n",
      "100/100 [==============================] - 0s 58us/step - loss: 0.1453 - accuracy: 0.9600\n",
      "Epoch 87/150\n",
      "100/100 [==============================] - 0s 71us/step - loss: 0.1451 - accuracy: 0.9600\n",
      "Epoch 88/150\n",
      "100/100 [==============================] - 0s 63us/step - loss: 0.1444 - accuracy: 0.9600\n",
      "Epoch 89/150\n",
      "100/100 [==============================] - 0s 62us/step - loss: 0.1446 - accuracy: 0.9600\n",
      "Epoch 90/150\n",
      "100/100 [==============================] - 0s 69us/step - loss: 0.1441 - accuracy: 0.9700\n",
      "Epoch 91/150\n",
      "100/100 [==============================] - 0s 65us/step - loss: 0.1434 - accuracy: 0.9700\n",
      "Epoch 92/150\n",
      "100/100 [==============================] - 0s 67us/step - loss: 0.1422 - accuracy: 0.9600\n",
      "Epoch 93/150\n",
      "100/100 [==============================] - 0s 66us/step - loss: 0.1418 - accuracy: 0.9600\n",
      "Epoch 94/150\n",
      "100/100 [==============================] - 0s 60us/step - loss: 0.1406 - accuracy: 0.9600\n",
      "Epoch 95/150\n",
      "100/100 [==============================] - 0s 66us/step - loss: 0.1405 - accuracy: 0.9600\n",
      "Epoch 96/150\n",
      "100/100 [==============================] - 0s 59us/step - loss: 0.1406 - accuracy: 0.9600\n",
      "Epoch 97/150\n",
      "100/100 [==============================] - 0s 55us/step - loss: 0.1396 - accuracy: 0.9600\n",
      "Epoch 98/150\n",
      "100/100 [==============================] - 0s 70us/step - loss: 0.1399 - accuracy: 0.9600\n",
      "Epoch 99/150\n",
      "100/100 [==============================] - 0s 60us/step - loss: 0.1384 - accuracy: 0.9600\n",
      "Epoch 100/150\n",
      "100/100 [==============================] - 0s 58us/step - loss: 0.1379 - accuracy: 0.9600\n",
      "Epoch 101/150\n",
      "100/100 [==============================] - 0s 67us/step - loss: 0.1379 - accuracy: 0.9700\n",
      "Epoch 102/150\n",
      "100/100 [==============================] - 0s 61us/step - loss: 0.1385 - accuracy: 0.9700\n",
      "Epoch 103/150\n",
      "100/100 [==============================] - 0s 61us/step - loss: 0.1374 - accuracy: 0.9700\n",
      "Epoch 104/150\n",
      "100/100 [==============================] - 0s 83us/step - loss: 0.1371 - accuracy: 0.9700\n",
      "Epoch 105/150\n",
      "100/100 [==============================] - 0s 63us/step - loss: 0.1366 - accuracy: 0.9600\n",
      "Epoch 106/150\n",
      "100/100 [==============================] - 0s 61us/step - loss: 0.1366 - accuracy: 0.9500\n",
      "Epoch 107/150\n",
      "100/100 [==============================] - 0s 63us/step - loss: 0.1376 - accuracy: 0.9500\n",
      "Epoch 108/150\n",
      "100/100 [==============================] - 0s 57us/step - loss: 0.1370 - accuracy: 0.9500\n",
      "Epoch 109/150\n",
      "100/100 [==============================] - 0s 61us/step - loss: 0.1353 - accuracy: 0.9600\n",
      "Epoch 110/150\n",
      "100/100 [==============================] - 0s 75us/step - loss: 0.1338 - accuracy: 0.9600\n",
      "Epoch 111/150\n",
      "100/100 [==============================] - 0s 67us/step - loss: 0.1327 - accuracy: 0.9600\n",
      "Epoch 112/150\n",
      "100/100 [==============================] - 0s 57us/step - loss: 0.1327 - accuracy: 0.9700\n",
      "Epoch 113/150\n",
      "100/100 [==============================] - 0s 71us/step - loss: 0.1334 - accuracy: 0.9700\n",
      "Epoch 114/150\n",
      "100/100 [==============================] - 0s 69us/step - loss: 0.1340 - accuracy: 0.9700\n",
      "Epoch 115/150\n",
      "100/100 [==============================] - 0s 59us/step - loss: 0.1332 - accuracy: 0.9700\n",
      "Epoch 116/150\n",
      "100/100 [==============================] - 0s 60us/step - loss: 0.1322 - accuracy: 0.9700\n",
      "Epoch 117/150\n",
      "100/100 [==============================] - 0s 63us/step - loss: 0.1316 - accuracy: 0.9700\n",
      "Epoch 118/150\n",
      "100/100 [==============================] - 0s 62us/step - loss: 0.1302 - accuracy: 0.9700\n",
      "Epoch 119/150\n",
      "100/100 [==============================] - 0s 58us/step - loss: 0.1292 - accuracy: 0.9700\n",
      "Epoch 120/150\n",
      "100/100 [==============================] - 0s 74us/step - loss: 0.1290 - accuracy: 0.9600\n",
      "Epoch 121/150\n",
      "100/100 [==============================] - 0s 68us/step - loss: 0.1285 - accuracy: 0.9600\n",
      "Epoch 122/150\n",
      "100/100 [==============================] - 0s 58us/step - loss: 0.1289 - accuracy: 0.9600\n",
      "Epoch 123/150\n",
      "100/100 [==============================] - 0s 60us/step - loss: 0.1289 - accuracy: 0.9500\n",
      "Epoch 124/150\n",
      "100/100 [==============================] - 0s 77us/step - loss: 0.1286 - accuracy: 0.9500\n",
      "Epoch 125/150\n",
      "100/100 [==============================] - 0s 61us/step - loss: 0.1276 - accuracy: 0.9600\n",
      "Epoch 126/150\n",
      "100/100 [==============================] - 0s 59us/step - loss: 0.1262 - accuracy: 0.9600\n",
      "Epoch 127/150\n",
      "100/100 [==============================] - 0s 64us/step - loss: 0.1260 - accuracy: 0.9700\n",
      "Epoch 128/150\n",
      "100/100 [==============================] - 0s 71us/step - loss: 0.1261 - accuracy: 0.9700\n",
      "Epoch 129/150\n",
      "100/100 [==============================] - 0s 60us/step - loss: 0.1262 - accuracy: 0.9700\n",
      "Epoch 130/150\n",
      "100/100 [==============================] - 0s 60us/step - loss: 0.1252 - accuracy: 0.9700\n",
      "Epoch 131/150\n",
      "100/100 [==============================] - 0s 61us/step - loss: 0.1243 - accuracy: 0.9700\n",
      "Epoch 132/150\n",
      "100/100 [==============================] - 0s 61us/step - loss: 0.1237 - accuracy: 0.9700\n",
      "Epoch 133/150\n",
      "100/100 [==============================] - 0s 58us/step - loss: 0.1236 - accuracy: 0.9700\n",
      "Epoch 134/150\n",
      "100/100 [==============================] - 0s 61us/step - loss: 0.1228 - accuracy: 0.9700\n",
      "Epoch 135/150\n",
      "100/100 [==============================] - 0s 74us/step - loss: 0.1224 - accuracy: 0.9700\n",
      "Epoch 136/150\n",
      "100/100 [==============================] - 0s 97us/step - loss: 0.1218 - accuracy: 0.9700\n",
      "Epoch 137/150\n",
      "100/100 [==============================] - 0s 66us/step - loss: 0.1221 - accuracy: 0.9600\n",
      "Epoch 138/150\n",
      "100/100 [==============================] - 0s 59us/step - loss: 0.1230 - accuracy: 0.9500\n",
      "Epoch 139/150\n",
      "100/100 [==============================] - 0s 60us/step - loss: 0.1229 - accuracy: 0.9500\n",
      "Epoch 140/150\n",
      "100/100 [==============================] - 0s 74us/step - loss: 0.1217 - accuracy: 0.9600\n",
      "Epoch 141/150\n",
      "100/100 [==============================] - 0s 83us/step - loss: 0.1211 - accuracy: 0.9700\n",
      "Epoch 142/150\n",
      "100/100 [==============================] - 0s 85us/step - loss: 0.1199 - accuracy: 0.9700\n",
      "Epoch 143/150\n",
      "100/100 [==============================] - 0s 65us/step - loss: 0.1209 - accuracy: 0.9700\n",
      "Epoch 144/150\n",
      "100/100 [==============================] - 0s 64us/step - loss: 0.1214 - accuracy: 0.9700\n",
      "Epoch 145/150\n",
      "100/100 [==============================] - 0s 56us/step - loss: 0.1212 - accuracy: 0.9700\n",
      "Epoch 146/150\n",
      "100/100 [==============================] - 0s 62us/step - loss: 0.1194 - accuracy: 0.9700\n",
      "Epoch 147/150\n",
      "100/100 [==============================] - 0s 64us/step - loss: 0.1185 - accuracy: 0.9700\n",
      "Epoch 148/150\n",
      "100/100 [==============================] - 0s 78us/step - loss: 0.1179 - accuracy: 0.9700\n",
      "Epoch 149/150\n",
      "100/100 [==============================] - 0s 69us/step - loss: 0.1173 - accuracy: 0.9700\n",
      "Epoch 150/150\n",
      "100/100 [==============================] - 0s 62us/step - loss: 0.1173 - accuracy: 0.9700\n"
     ]
    },
    {
     "data": {
      "text/plain": [
       "<keras.callbacks.callbacks.History at 0x7fa8b95f3a50>"
      ]
     },
     "execution_count": 26,
     "metadata": {},
     "output_type": "execute_result"
    }
   ],
   "source": [
    "# Play around with number of epochs as well\n",
    "model.fit(scaled_X_train,y_train,epochs=150, verbose=1)"
   ]
  },
  {
   "cell_type": "markdown",
   "id": "1c9650d5-2590-415f-ad01-3cb37ff6339f",
   "metadata": {},
   "source": [
    "## 3. Evaluation & Inference"
   ]
  },
  {
   "cell_type": "code",
   "execution_count": 29,
   "id": "062e675c-648a-4079-b8c0-331382bf8373",
   "metadata": {},
   "outputs": [
    {
     "data": {
      "text/plain": [
       "array([1, 0, 2, 1, 1, 0, 1, 2, 2, 1, 2, 0, 0, 0, 0, 1, 2, 1, 1, 2, 0, 2,\n",
       "       0, 2, 2, 2, 2, 2, 0, 0, 0, 0, 1, 0, 0, 2, 1, 0, 0, 0, 2, 1, 1, 0,\n",
       "       0, 1, 1, 2, 1, 2])"
      ]
     },
     "execution_count": 29,
     "metadata": {},
     "output_type": "execute_result"
    }
   ],
   "source": [
    "# Classes\n",
    "model.predict_classes(scaled_X_test)"
   ]
  },
  {
   "cell_type": "code",
   "execution_count": 30,
   "id": "00886310-83be-49df-a37c-317c8ef3c30c",
   "metadata": {},
   "outputs": [
    {
     "data": {
      "text/plain": [
       "array([[3.7953616e-03, 9.0139675e-01, 9.4807856e-02],\n",
       "       [9.9653494e-01, 3.4641160e-03, 9.1317844e-07],\n",
       "       [7.3805516e-08, 1.4495703e-03, 9.9855036e-01],\n",
       "       [2.1918260e-03, 7.8061134e-01, 2.1719687e-01],\n",
       "       [1.0858449e-03, 6.9031870e-01, 3.0859539e-01],\n",
       "       [9.9122107e-01, 8.7745525e-03, 4.3619834e-06],\n",
       "       [8.6726956e-03, 9.6232158e-01, 2.9005803e-02],\n",
       "       [6.6943517e-06, 2.9191446e-02, 9.7080189e-01],\n",
       "       [7.5135677e-04, 3.6511612e-01, 6.3413250e-01],\n",
       "       [7.1674120e-03, 9.5278430e-01, 4.0048312e-02],\n",
       "       [1.0109660e-04, 1.7444783e-01, 8.2545114e-01],\n",
       "       [9.9169993e-01, 8.2937656e-03, 6.3960774e-06],\n",
       "       [9.9648488e-01, 3.5139995e-03, 1.0654983e-06],\n",
       "       [9.9307936e-01, 6.9160634e-03, 4.6540308e-06],\n",
       "       [9.9727708e-01, 2.7222310e-03, 7.6336289e-07],\n",
       "       [1.4529370e-03, 7.9644883e-01, 2.0209828e-01],\n",
       "       [4.7645490e-06, 1.7412972e-02, 9.8258221e-01],\n",
       "       [9.9841664e-03, 9.5068008e-01, 3.9335787e-02],\n",
       "       [4.6059252e-03, 8.9396656e-01, 1.0142754e-01],\n",
       "       [4.4818398e-06, 1.4497239e-02, 9.8549831e-01],\n",
       "       [9.9330610e-01, 6.6891452e-03, 4.7726626e-06],\n",
       "       [4.3690664e-04, 3.5566592e-01, 6.4389712e-01],\n",
       "       [9.9484515e-01, 5.1520364e-03, 2.7991173e-06],\n",
       "       [9.0289241e-06, 2.3961114e-02, 9.7602987e-01],\n",
       "       [1.0413380e-05, 8.3158784e-02, 9.1683078e-01],\n",
       "       [5.4387187e-06, 2.1695198e-02, 9.7829938e-01],\n",
       "       [1.6207065e-05, 3.5028681e-02, 9.6495503e-01],\n",
       "       [2.3696578e-06, 1.3329867e-02, 9.8666775e-01],\n",
       "       [9.9075049e-01, 9.2417421e-03, 7.7540499e-06],\n",
       "       [9.9252170e-01, 7.4723987e-03, 5.8700402e-06],\n",
       "       [9.9576914e-01, 4.2289961e-03, 1.8734210e-06],\n",
       "       [9.9848181e-01, 1.5180517e-03, 1.7759140e-07],\n",
       "       [1.9377171e-03, 8.9311647e-01, 1.0494586e-01],\n",
       "       [9.9510092e-01, 4.8966398e-03, 2.5261236e-06],\n",
       "       [9.9238610e-01, 7.6077776e-03, 6.2010126e-06],\n",
       "       [5.2340733e-05, 7.0859939e-02, 9.2908776e-01],\n",
       "       [1.9001848e-03, 8.6428326e-01, 1.3381651e-01],\n",
       "       [9.9617887e-01, 3.8196230e-03, 1.5222691e-06],\n",
       "       [9.9643183e-01, 3.5667941e-03, 1.3239343e-06],\n",
       "       [9.9845028e-01, 1.5494924e-03, 2.4226409e-07],\n",
       "       [1.2926442e-04, 1.1861468e-01, 8.8125604e-01],\n",
       "       [2.3956732e-03, 9.0462136e-01, 9.2983007e-02],\n",
       "       [1.2017388e-03, 7.7114487e-01, 2.2765346e-01],\n",
       "       [9.9718577e-01, 2.8135257e-03, 7.1878100e-07],\n",
       "       [9.9728692e-01, 2.7123352e-03, 7.5772169e-07],\n",
       "       [1.5170541e-02, 9.5702958e-01, 2.7799878e-02],\n",
       "       [8.6951378e-04, 5.2164072e-01, 4.7748968e-01],\n",
       "       [1.6522921e-04, 2.1674503e-01, 7.8308976e-01],\n",
       "       [1.9995198e-03, 8.7175184e-01, 1.2624866e-01],\n",
       "       [7.4070510e-07, 8.4489752e-03, 9.9155033e-01]], dtype=float32)"
      ]
     },
     "execution_count": 30,
     "metadata": {},
     "output_type": "execute_result"
    }
   ],
   "source": [
    "# Probabilities\n",
    "model.predict(scaled_X_test)"
   ]
  },
  {
   "cell_type": "code",
   "execution_count": 31,
   "id": "204021ec-52b7-4d19-829d-ecfe1c8c5ea5",
   "metadata": {},
   "outputs": [
    {
     "data": {
      "text/plain": [
       "['loss', 'accuracy']"
      ]
     },
     "execution_count": 31,
     "metadata": {},
     "output_type": "execute_result"
    }
   ],
   "source": [
    "model.metrics_names"
   ]
  },
  {
   "cell_type": "code",
   "execution_count": 32,
   "id": "5c64017a-3010-4703-a6f4-c257b536c678",
   "metadata": {},
   "outputs": [
    {
     "name": "stdout",
     "output_type": "stream",
     "text": [
      "50/50 [==============================] - 0s 2ms/step\n"
     ]
    },
    {
     "data": {
      "text/plain": [
       "[0.10343486696481705, 0.9599999785423279]"
      ]
     },
     "execution_count": 32,
     "metadata": {},
     "output_type": "execute_result"
    }
   ],
   "source": [
    "model.evaluate(x=scaled_X_test,y=y_test)"
   ]
  },
  {
   "cell_type": "code",
   "execution_count": 33,
   "id": "be9c834e-740c-44da-9011-7c7b0e72c41c",
   "metadata": {},
   "outputs": [],
   "source": [
    "from sklearn.metrics import confusion_matrix,classification_report"
   ]
  },
  {
   "cell_type": "code",
   "execution_count": 34,
   "id": "7d764ef5-7fc4-4869-a794-fb28b627a907",
   "metadata": {},
   "outputs": [],
   "source": [
    "predictions = model.predict_classes(scaled_X_test)"
   ]
  },
  {
   "cell_type": "code",
   "execution_count": 35,
   "id": "e265230e-e6fc-427d-ab3e-df9584b25451",
   "metadata": {},
   "outputs": [
    {
     "data": {
      "text/plain": [
       "array([[19,  0,  0],\n",
       "       [ 0, 14,  1],\n",
       "       [ 0,  1, 15]])"
      ]
     },
     "execution_count": 35,
     "metadata": {},
     "output_type": "execute_result"
    }
   ],
   "source": [
    "confusion_matrix(y_test.argmax(axis=1),predictions)"
   ]
  },
  {
   "cell_type": "code",
   "execution_count": 36,
   "id": "344fb48f-45ac-4070-9404-b3d6cdb9f2b2",
   "metadata": {},
   "outputs": [
    {
     "name": "stdout",
     "output_type": "stream",
     "text": [
      "              precision    recall  f1-score   support\n",
      "\n",
      "           0       1.00      1.00      1.00        19\n",
      "           1       0.93      0.93      0.93        15\n",
      "           2       0.94      0.94      0.94        16\n",
      "\n",
      "    accuracy                           0.96        50\n",
      "   macro avg       0.96      0.96      0.96        50\n",
      "weighted avg       0.96      0.96      0.96        50\n",
      "\n"
     ]
    }
   ],
   "source": [
    "print(classification_report(y_test.argmax(axis=1),predictions))"
   ]
  },
  {
   "cell_type": "markdown",
   "id": "14a38e5d-3d1c-4609-8dc3-800931ccdda9",
   "metadata": {},
   "source": [
    "## 4. Save and Load Models"
   ]
  },
  {
   "cell_type": "code",
   "execution_count": 37,
   "id": "68cb2e48-f4ac-48db-84df-9142fc4e14e8",
   "metadata": {},
   "outputs": [],
   "source": [
    "model.save('myfirstmodel.h5')"
   ]
  },
  {
   "cell_type": "code",
   "execution_count": 38,
   "id": "5f9695c6-2581-454b-9791-144d825a9bc1",
   "metadata": {},
   "outputs": [],
   "source": [
    "from keras.models import load_model"
   ]
  },
  {
   "cell_type": "code",
   "execution_count": 39,
   "id": "c65c5576-4d71-4669-9d60-f7a003043867",
   "metadata": {},
   "outputs": [],
   "source": [
    "newmodel = load_model('myfirstmodel.h5')"
   ]
  },
  {
   "cell_type": "code",
   "execution_count": 40,
   "id": "b8d029a0-7ded-43ac-b6d2-672793acbdde",
   "metadata": {},
   "outputs": [
    {
     "data": {
      "text/plain": [
       "array([2, 1, 2, 2, 2, 1, 2, 2, 2, 2, 2, 1, 1, 1, 1, 2, 2, 2, 2, 2, 1, 2,\n",
       "       1, 2, 2, 2, 2, 2, 1, 1, 1, 1, 2, 1, 1, 2, 2, 1, 1, 1, 2, 2, 2, 1,\n",
       "       1, 2, 2, 2, 2, 2])"
      ]
     },
     "execution_count": 40,
     "metadata": {},
     "output_type": "execute_result"
    }
   ],
   "source": [
    "newmodel.predict_classes(X_test)"
   ]
  },
  {
   "cell_type": "code",
   "execution_count": null,
   "id": "13118468-f6e0-4728-bf80-f2fcc0bda113",
   "metadata": {},
   "outputs": [],
   "source": []
  }
 ],
 "metadata": {
  "kernelspec": {
   "display_name": "Python 3 (ipykernel)",
   "language": "python",
   "name": "python3"
  },
  "language_info": {
   "codemirror_mode": {
    "name": "ipython",
    "version": 3
   },
   "file_extension": ".py",
   "mimetype": "text/x-python",
   "name": "python",
   "nbconvert_exporter": "python",
   "pygments_lexer": "ipython3",
   "version": "3.7.13"
  }
 },
 "nbformat": 4,
 "nbformat_minor": 5
}
