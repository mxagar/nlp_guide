{
 "cells": [
  {
   "cell_type": "markdown",
   "id": "f9994be9-1535-46f0-81ea-c7ddb5166089",
   "metadata": {},
   "source": [
    "# Text Generation with LSTMs"
   ]
  },
  {
   "cell_type": "code",
   "execution_count": null,
   "id": "d68f5225-5f08-40cd-8624-6fee3b89cff9",
   "metadata": {},
   "outputs": [],
   "source": []
  }
 ],
 "metadata": {
  "kernelspec": {
   "display_name": "Python 3 (ipykernel)",
   "language": "python",
   "name": "python3"
  },
  "language_info": {
   "codemirror_mode": {
    "name": "ipython",
    "version": 3
   },
   "file_extension": ".py",
   "mimetype": "text/x-python",
   "name": "python",
   "nbconvert_exporter": "python",
   "pygments_lexer": "ipython3",
   "version": "3.7.13"
  }
 },
 "nbformat": 4,
 "nbformat_minor": 5
}
