{
 "cells": [
  {
   "cell_type": "markdown",
   "id": "783a3d44-001b-40b6-8d48-1cd9ac6e3c5c",
   "metadata": {},
   "source": [
    "# Chat Bots with LSTMs"
   ]
  },
  {
   "cell_type": "code",
   "execution_count": null,
   "id": "ef0688f7-301c-4591-900e-02353940978f",
   "metadata": {},
   "outputs": [],
   "source": []
  }
 ],
 "metadata": {
  "kernelspec": {
   "display_name": "Python 3 (ipykernel)",
   "language": "python",
   "name": "python3"
  },
  "language_info": {
   "codemirror_mode": {
    "name": "ipython",
    "version": 3
   },
   "file_extension": ".py",
   "mimetype": "text/x-python",
   "name": "python",
   "nbconvert_exporter": "python",
   "pygments_lexer": "ipython3",
   "version": "3.7.13"
  }
 },
 "nbformat": 4,
 "nbformat_minor": 5
}
